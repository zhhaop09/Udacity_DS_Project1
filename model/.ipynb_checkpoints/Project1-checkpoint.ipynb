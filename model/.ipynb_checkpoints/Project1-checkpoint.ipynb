{
 "cells": [
  {
   "cell_type": "markdown",
   "metadata": {},
   "source": [
    "# Project 1"
   ]
  },
  {
   "cell_type": "code",
   "execution_count": 2,
   "metadata": {},
   "outputs": [],
   "source": [
    "import numpy as np\n",
    "import pandas as pd\n",
    "import matplotlib.pyplot as plt\n",
    "from sklearn.linear_model import LinearRegression\n",
    "from sklearn.preprocessing import PolynomialFeatures, StandardScaler \n",
    "from sklearn.pipeline import Pipeline\n",
    "from sklearn.model_selection import GridSearchCV\n",
    "from sklearn.model_selection import train_test_split\n",
    "from sklearn.metrics import r2_score, mean_squared_error\n",
    "import seaborn as sns\n",
    "%matplotlib inline"
   ]
  },
  {
   "cell_type": "markdown",
   "metadata": {},
   "source": [
    "### Fetch data"
   ]
  },
  {
   "cell_type": "code",
   "execution_count": 3,
   "metadata": {},
   "outputs": [],
   "source": [
    "data = pd.read_csv('../raw_data/survey_results_public.csv')\n",
    "schema = pd.read_csv('../raw_data/survey_results_schema.csv')"
   ]
  },
  {
   "cell_type": "markdown",
   "metadata": {},
   "source": [
    "### Q1: What programming languanges do the happy programmers use the most?\n",
    "happy programmers: okay with the job and career, with 6 and above \n",
    "\n",
    "label: 'HaveWorkedLanguage', WantWorkLanguage\n",
    "\n",
    "    features: Country, University, CompanySize, WebDeveloperType, MobileDeveloperType, ProblemSolving, BuildingThings, LearningNewTech, BoringDetails, JobSecurity, HoursPerWeek, EducationImportant\n",
    "\n"
   ]
  },
  {
   "cell_type": "markdown",
   "metadata": {},
   "source": [
    "#### Clean data"
   ]
  },
  {
   "cell_type": "code",
   "execution_count": 50,
   "metadata": {},
   "outputs": [],
   "source": [
    "happy_programmer_df = data.loc[(data['JobSatisfaction']>=8) & data['CareerSatisfaction'] == True].copy() # filter the people who like the current jobs"
   ]
  },
  {
   "cell_type": "markdown",
   "metadata": {},
   "source": [
    "#### Exploratory data analysis"
   ]
  },
  {
   "cell_type": "code",
   "execution_count": 6,
   "metadata": {},
   "outputs": [],
   "source": [
    "# generate country distribution for happy prorammers\n",
    "happy_programmer_country_df = happy_programmer_df.groupby(['Country'])['JobSatisfaction'].count().to_frame('Count').reset_index()\n",
    "happy_programmer_country_df.sort_values(by = 'Count', ascending=False, inplace =True)"
   ]
  },
  {
   "cell_type": "code",
   "execution_count": 7,
   "metadata": {},
   "outputs": [
    {
     "data": {
      "text/html": [
       "<div>\n",
       "<style scoped>\n",
       "    .dataframe tbody tr th:only-of-type {\n",
       "        vertical-align: middle;\n",
       "    }\n",
       "\n",
       "    .dataframe tbody tr th {\n",
       "        vertical-align: top;\n",
       "    }\n",
       "\n",
       "    .dataframe thead th {\n",
       "        text-align: right;\n",
       "    }\n",
       "</style>\n",
       "<table border=\"1\" class=\"dataframe\">\n",
       "  <thead>\n",
       "    <tr style=\"text-align: right;\">\n",
       "      <th></th>\n",
       "      <th>Count</th>\n",
       "    </tr>\n",
       "  </thead>\n",
       "  <tbody>\n",
       "    <tr>\n",
       "      <th>count</th>\n",
       "      <td>147.000000</td>\n",
       "    </tr>\n",
       "    <tr>\n",
       "      <th>mean</th>\n",
       "      <td>127.108844</td>\n",
       "    </tr>\n",
       "    <tr>\n",
       "      <th>std</th>\n",
       "      <td>455.579010</td>\n",
       "    </tr>\n",
       "    <tr>\n",
       "      <th>min</th>\n",
       "      <td>1.000000</td>\n",
       "    </tr>\n",
       "    <tr>\n",
       "      <th>25%</th>\n",
       "      <td>5.000000</td>\n",
       "    </tr>\n",
       "    <tr>\n",
       "      <th>50%</th>\n",
       "      <td>18.000000</td>\n",
       "    </tr>\n",
       "    <tr>\n",
       "      <th>75%</th>\n",
       "      <td>89.500000</td>\n",
       "    </tr>\n",
       "    <tr>\n",
       "      <th>max</th>\n",
       "      <td>4813.000000</td>\n",
       "    </tr>\n",
       "  </tbody>\n",
       "</table>\n",
       "</div>"
      ],
      "text/plain": [
       "             Count\n",
       "count   147.000000\n",
       "mean    127.108844\n",
       "std     455.579010\n",
       "min       1.000000\n",
       "25%       5.000000\n",
       "50%      18.000000\n",
       "75%      89.500000\n",
       "max    4813.000000"
      ]
     },
     "execution_count": 7,
     "metadata": {},
     "output_type": "execute_result"
    }
   ],
   "source": [
    "happy_programmer_country_df.describe()"
   ]
  },
  {
   "cell_type": "code",
   "execution_count": 8,
   "metadata": {},
   "outputs": [],
   "source": [
    "# filter the results with the count above the mean of the data\n",
    "happy_programmer_country_df_reduced =  happy_programmer_country_df[happy_programmer_country_df['Count'] >= happy_programmer_country_df['Count'].mean()]"
   ]
  },
  {
   "cell_type": "code",
   "execution_count": 9,
   "metadata": {},
   "outputs": [
    {
     "name": "stdout",
     "output_type": "stream",
     "text": [
      "The top five countries accounts 54.5036125234145% of the total programmers all around the world. And they are ['United States', 'United Kingdom', 'Germany', 'India', 'Canada']\n"
     ]
    }
   ],
   "source": [
    "# top 5 countries\n",
    "happy_programmer_country_top5 = happy_programmer_country_df_reduced.iloc[0:5,:].copy()\n",
    "# precentage caculations:\n",
    "top5_precentage = happy_programmer_country_top5['Count'].sum()/happy_programmer_country_df['Count'].sum()*100\n",
    "print(f\"The top five countries accounts {top5_precentage}% of the total programmers all around the world. And they are {list(happy_programmer_country_top5['Country'])}\")"
   ]
  },
  {
   "cell_type": "code",
   "execution_count": 10,
   "metadata": {},
   "outputs": [
    {
     "data": {
      "image/png": "[encoded data removed]",
      "text/plain": [
       "<Figure size 432x288 with 1 Axes>"
      ]
     },
     "metadata": {
      "needs_background": "light"
     },
     "output_type": "display_data"
    }
   ],
   "source": [
    "sns.barplot(x=happy_programmer_country_top5['Count'], y=happy_programmer_country_top5['Country'], color='b')\n",
    "plt.xlabel('Happy programmers counts')\n",
    "plt.title('Happy programmers distributions');"
   ]
  },
  {
   "cell_type": "code",
   "execution_count": 11,
   "metadata": {
    "scrolled": true
   },
   "outputs": [
    {
     "name": "stderr",
     "output_type": "stream",
     "text": [
      "<ipython-input-11-46e2fc58ef2e>:2: SettingWithCopyWarning: \n",
      "A value is trying to be set on a copy of a slice from a DataFrame.\n",
      "Try using .loc[row_indexer,col_indexer] = value instead\n",
      "\n",
      "See the caveats in the documentation: https://pandas.pydata.org/pandas-docs/stable/user_guide/indexing.html#returning-a-view-versus-a-copy\n",
      "  happy_programmer_df['Language']  = happy_programmer_df['HaveWorkedLanguage'].apply(lambda x: str(x).replace(\" \", \"\").split(\";\")).copy()\n"
     ]
    }
   ],
   "source": [
    "# explode the languages\n",
    "happy_programmer_df['Language']  = happy_programmer_df['HaveWorkedLanguage'].apply(lambda x: str(x).replace(\" \", \"\").split(\";\")).copy()\n",
    "happy_programmer_language_df = happy_programmer_df.explode('Language')\n"
   ]
  },
  {
   "cell_type": "code",
   "execution_count": 12,
   "metadata": {},
   "outputs": [],
   "source": [
    "# drop nan\n",
    "happy_programmer_language_df = happy_programmer_language_df[happy_programmer_language_df['Language'] != \"nan\"]"
   ]
  },
  {
   "cell_type": "code",
   "execution_count": 13,
   "metadata": {
    "scrolled": true
   },
   "outputs": [],
   "source": [
    "# programming langues counts among the world\n",
    "happy_programmer_language_count =happy_programmer_language_df.groupby(['Respondent','Language'])['DeveloperType'].count().to_frame('Count').reset_index()\n",
    "happy_programmer_language_count = happy_programmer_language_count.groupby('Language')['Respondent'].count().to_frame('Count').reset_index()\n",
    "happy_programmer_language_count.sort_values(by = 'Count', ascending=False, inplace =True )"
   ]
  },
  {
   "cell_type": "code",
   "execution_count": 14,
   "metadata": {},
   "outputs": [
    {
     "name": "stdout",
     "output_type": "stream",
     "text": [
      "The top five programming languages in the world are ['JavaScript', 'SQL', 'Java', 'C#', 'Python'] and accounts 58.254607546539475% \n"
     ]
    }
   ],
   "source": [
    "# top 5 langues among the world\n",
    "happy_programmer_language_top5 = happy_programmer_language_count.iloc[0:5,:].copy()\n",
    "# precentage caculations:\n",
    "top5_language_precentage = happy_programmer_language_top5['Count'].sum()/happy_programmer_language_count['Count'].sum()*100\n",
    "print(f\"The top five programming languages in the world are {list(happy_programmer_language_top5['Language'])} and accounts {top5_language_precentage}% \")"
   ]
  },
  {
   "cell_type": "code",
   "execution_count": 15,
   "metadata": {},
   "outputs": [
    {
     "name": "stdout",
     "output_type": "stream",
     "text": [
      "The top five programming languages in USA are ['JavaScript', 'SQL', 'C#', 'Python', 'Java'] and accounts 58.13770491803278% \n"
     ]
    }
   ],
   "source": [
    "# language in United States\n",
    "happy_programmer_language_usa = happy_programmer_language_df[happy_programmer_language_df['Country'] == 'United States']\n",
    "happy_programmer_language_usa_count =happy_programmer_language_usa.groupby(['Language'])['Respondent'].count().to_frame('Count').reset_index()\n",
    "happy_programmer_language_usa_count.sort_values(by = 'Count', ascending=False, inplace =True )\n",
    "happy_programmer_language_usa_count\n",
    "# top 5 langues\n",
    "happy_programmer_language_usa_top5 = happy_programmer_language_usa_count.iloc[0:5,:].copy()\n",
    "# precentage caculations:\n",
    "top5_language_usa_precentage = happy_programmer_language_usa_top5['Count'].sum()/happy_programmer_language_usa_count['Count'].sum()*100\n",
    "print(f\"The top five programming languages in USA are {list(happy_programmer_language_usa_top5['Language'])} and accounts {top5_language_usa_precentage}% \")"
   ]
  },
  {
   "cell_type": "code",
   "execution_count": 16,
   "metadata": {},
   "outputs": [
    {
     "name": "stdout",
     "output_type": "stream",
     "text": [
      "The top five programming languages in United Kingdom are ['JavaScript', 'SQL', 'C#', 'PHP', 'Python'] and accounts 60.486784559802246% \n"
     ]
    }
   ],
   "source": [
    "# language in United Kingdom\n",
    "happy_programmer_language_uk = happy_programmer_language_df[happy_programmer_language_df['Country'] == 'United Kingdom']\n",
    "happy_programmer_language_uk_count =happy_programmer_language_uk.groupby(['Language'])['Respondent'].count().to_frame('Count').reset_index()\n",
    "happy_programmer_language_uk_count.sort_values(by = 'Count', ascending=False, inplace =True )\n",
    "happy_programmer_language_uk_count\n",
    "# top 5 langues\n",
    "happy_programmer_language_uk_top5 = happy_programmer_language_uk_count.iloc[0:5,:].copy()\n",
    "# precentage caculations:\n",
    "top5_language_uk_precentage = happy_programmer_language_uk_top5['Count'].sum()/happy_programmer_language_uk_count['Count'].sum()*100\n",
    "print(f\"The top five programming languages in United Kingdom are {list(happy_programmer_language_uk_top5['Language'])} and accounts {top5_language_uk_precentage}% \")"
   ]
  },
  {
   "cell_type": "code",
   "execution_count": 17,
   "metadata": {},
   "outputs": [
    {
     "name": "stdout",
     "output_type": "stream",
     "text": [
      "The top five programming languages in Germany are ['JavaScript', 'SQL', 'Java', 'C#', 'Python'] and accounts 55.669877408056045% \n"
     ]
    }
   ],
   "source": [
    "# language in Germany\n",
    "happy_programmer_language_gm = happy_programmer_language_df[happy_programmer_language_df['Country'] == 'Germany']\n",
    "happy_programmer_language_gm_count =happy_programmer_language_gm.groupby(['Language'])['Respondent'].count().to_frame('Count').reset_index()\n",
    "happy_programmer_language_gm_count.sort_values(by = 'Count', ascending=False, inplace =True )\n",
    "happy_programmer_language_gm_count\n",
    "# top 5 langues\n",
    "happy_programmer_language_gm_top5 = happy_programmer_language_gm_count.iloc[0:5,:].copy()\n",
    "# precentage caculations:\n",
    "top5_language_gm_precentage = happy_programmer_language_gm_top5['Count'].sum()/happy_programmer_language_gm_count['Count'].sum()*100\n",
    "print(f\"The top five programming languages in Germany are {list(happy_programmer_language_gm_top5['Language'])} and accounts {top5_language_gm_precentage}% \")"
   ]
  },
  {
   "cell_type": "code",
   "execution_count": 18,
   "metadata": {},
   "outputs": [
    {
     "name": "stdout",
     "output_type": "stream",
     "text": [
      "The top five programming languages in India are ['JavaScript', 'SQL', 'Java', 'PHP', 'Python'] and accounts 62.78145695364239% \n"
     ]
    }
   ],
   "source": [
    "# language in India'\n",
    "happy_programmer_language_in = happy_programmer_language_df[happy_programmer_language_df['Country'] == 'India']\n",
    "happy_programmer_language_in_count =happy_programmer_language_in.groupby(['Language'])['Respondent'].count().to_frame('Count').reset_index()\n",
    "happy_programmer_language_in_count.sort_values(by = 'Count', ascending=False, inplace =True )\n",
    "happy_programmer_language_in_count\n",
    "# top 5 langues\n",
    "happy_programmer_language_in_top5 = happy_programmer_language_in_count.iloc[0:5,:].copy()\n",
    "# precentage caculations:\n",
    "top5_language_in_precentage = happy_programmer_language_in_top5['Count'].sum()/happy_programmer_language_in_count['Count'].sum()*100\n",
    "print(f\"The top five programming languages in India are {list(happy_programmer_language_in_top5['Language'])} and accounts {top5_language_in_precentage}% \")"
   ]
  },
  {
   "cell_type": "code",
   "execution_count": 19,
   "metadata": {},
   "outputs": [
    {
     "name": "stdout",
     "output_type": "stream",
     "text": [
      "The top five programming languages in Canada are ['JavaScript', 'SQL', 'C#', 'Python', 'Java'] and accounts 59.5941616233535% \n"
     ]
    }
   ],
   "source": [
    "# language in Canada\n",
    "happy_programmer_language_ca = happy_programmer_language_df[happy_programmer_language_df['Country'] == 'Canada']\n",
    "happy_programmer_language_ca_count =happy_programmer_language_ca.groupby(['Language'])['Respondent'].count().to_frame('Count').reset_index()\n",
    "happy_programmer_language_ca_count.sort_values(by = 'Count', ascending=False, inplace =True )\n",
    "happy_programmer_language_ca_count\n",
    "# top 5 langues\n",
    "happy_programmer_language_ca_top5 = happy_programmer_language_ca_count.iloc[0:5,:].copy()\n",
    "# precentage caculations:\n",
    "top5_language_ca_precentage = happy_programmer_language_ca_top5['Count'].sum()/happy_programmer_language_ca_count['Count'].sum()*100\n",
    "print(f\"The top five programming languages in Canada are {list(happy_programmer_language_ca_top5['Language'])} and accounts {top5_language_ca_precentage}% \")"
   ]
  },
  {
   "cell_type": "code",
   "execution_count": 21,
   "metadata": {},
   "outputs": [],
   "source": [
    "# 'DeveloperType' study\n",
    "# explode the Developer Type\n",
    "happy_programmer_language_df['Dev']  = happy_programmer_language_df['DeveloperType'].apply(lambda x: str(x).replace(\" \", \"\").split(\";\")).copy()\n",
    "happy_programmer_language_df = happy_programmer_language_df.explode('Dev')"
   ]
  },
  {
   "cell_type": "code",
   "execution_count": 22,
   "metadata": {},
   "outputs": [],
   "source": [
    "# drop nan\n",
    "happy_programmer_language_df = happy_programmer_language_df[happy_programmer_language_df['Dev']!='nan']"
   ]
  },
  {
   "cell_type": "code",
   "execution_count": 23,
   "metadata": {},
   "outputs": [
    {
     "data": {
      "text/html": [
       "<div>\n",
       "<style scoped>\n",
       "    .dataframe tbody tr th:only-of-type {\n",
       "        vertical-align: middle;\n",
       "    }\n",
       "\n",
       "    .dataframe tbody tr th {\n",
       "        vertical-align: top;\n",
       "    }\n",
       "\n",
       "    .dataframe thead th {\n",
       "        text-align: right;\n",
       "    }\n",
       "</style>\n",
       "<table border=\"1\" class=\"dataframe\">\n",
       "  <thead>\n",
       "    <tr style=\"text-align: right;\">\n",
       "      <th></th>\n",
       "      <th>Dev</th>\n",
       "      <th>Count</th>\n",
       "    </tr>\n",
       "  </thead>\n",
       "  <tbody>\n",
       "    <tr>\n",
       "      <th>13</th>\n",
       "      <td>Webdeveloper</td>\n",
       "      <td>9222</td>\n",
       "    </tr>\n",
       "    <tr>\n",
       "      <th>2</th>\n",
       "      <td>Desktopapplicationsdeveloper</td>\n",
       "      <td>3739</td>\n",
       "    </tr>\n",
       "    <tr>\n",
       "      <th>9</th>\n",
       "      <td>Mobiledeveloper</td>\n",
       "      <td>2968</td>\n",
       "    </tr>\n",
       "    <tr>\n",
       "      <th>0</th>\n",
       "      <td>Databaseadministrator</td>\n",
       "      <td>1898</td>\n",
       "    </tr>\n",
       "    <tr>\n",
       "      <th>3</th>\n",
       "      <td>DevOpsspecialist</td>\n",
       "      <td>1598</td>\n",
       "    </tr>\n",
       "    <tr>\n",
       "      <th>12</th>\n",
       "      <td>Systemsadministrator</td>\n",
       "      <td>1536</td>\n",
       "    </tr>\n",
       "    <tr>\n",
       "      <th>4</th>\n",
       "      <td>Developerwithastatisticsormathematicsbackground</td>\n",
       "      <td>1530</td>\n",
       "    </tr>\n",
       "    <tr>\n",
       "      <th>5</th>\n",
       "      <td>Embeddedapplications/devicesdeveloper</td>\n",
       "      <td>1224</td>\n",
       "    </tr>\n",
       "    <tr>\n",
       "      <th>1</th>\n",
       "      <td>Datascientist</td>\n",
       "      <td>1147</td>\n",
       "    </tr>\n",
       "    <tr>\n",
       "      <th>10</th>\n",
       "      <td>Other</td>\n",
       "      <td>1140</td>\n",
       "    </tr>\n",
       "    <tr>\n",
       "      <th>7</th>\n",
       "      <td>Graphicsprogramming</td>\n",
       "      <td>632</td>\n",
       "    </tr>\n",
       "    <tr>\n",
       "      <th>8</th>\n",
       "      <td>Machinelearningspecialist</td>\n",
       "      <td>489</td>\n",
       "    </tr>\n",
       "    <tr>\n",
       "      <th>11</th>\n",
       "      <td>Qualityassuranceengineer</td>\n",
       "      <td>486</td>\n",
       "    </tr>\n",
       "    <tr>\n",
       "      <th>6</th>\n",
       "      <td>Graphicdesigner</td>\n",
       "      <td>466</td>\n",
       "    </tr>\n",
       "  </tbody>\n",
       "</table>\n",
       "</div>"
      ],
      "text/plain": [
       "                                                Dev  Count\n",
       "13                                     Webdeveloper   9222\n",
       "2                      Desktopapplicationsdeveloper   3739\n",
       "9                                   Mobiledeveloper   2968\n",
       "0                             Databaseadministrator   1898\n",
       "3                                  DevOpsspecialist   1598\n",
       "12                             Systemsadministrator   1536\n",
       "4   Developerwithastatisticsormathematicsbackground   1530\n",
       "5             Embeddedapplications/devicesdeveloper   1224\n",
       "1                                     Datascientist   1147\n",
       "10                                            Other   1140\n",
       "7                               Graphicsprogramming    632\n",
       "8                         Machinelearningspecialist    489\n",
       "11                         Qualityassuranceengineer    486\n",
       "6                                   Graphicdesigner    466"
      ]
     },
     "execution_count": 23,
     "metadata": {},
     "output_type": "execute_result"
    }
   ],
   "source": [
    "# count\n",
    "happy_programmer_language_dev_df = happy_programmer_language_df.groupby(['Dev','Respondent'])['DeveloperType'].count().to_frame('Count').reset_index()\n",
    "happy_programmer_language_dev_df = happy_programmer_language_dev_df.groupby('Dev')['Respondent'].count().to_frame('Count').reset_index()\n",
    "happy_programmer_language_dev_df.sort_values(by = 'Count',  ascending=False, inplace =True )"
   ]
  },
  {
   "cell_type": "code",
   "execution_count": 24,
   "metadata": {},
   "outputs": [
    {
     "name": "stdout",
     "output_type": "stream",
     "text": [
      "The top five types of developers in the world are ['Webdeveloper', 'Desktopapplicationsdeveloper', 'Mobiledeveloper', 'Databaseadministrator', 'DevOpsspecialist'] and accounts 69.18967052537846% \n"
     ]
    }
   ],
   "source": [
    "# top 5 types among the world\n",
    "happy_programmer_dev_top5 = happy_programmer_language_dev_df.iloc[0:5,:].copy()\n",
    "# precentage caculations:\n",
    "top5_dev_precentage = happy_programmer_dev_top5 ['Count'].sum()/happy_programmer_language_dev_df['Count'].sum()*100\n",
    "print(f\"The top five types of developers in the world are {list(happy_programmer_dev_top5['Dev'])} and accounts {top5_dev_precentage}% \")"
   ]
  },
  {
   "cell_type": "markdown",
   "metadata": {},
   "source": [
    "\n",
    "### Q2: Is salary a important part for the happy programmers?\n",
    "happy programmers: okay with the job and career, with 6 and above \n",
    "\n",
    "\n",
    "features:\n",
    "    quantitative features:  'Salary', 'ExpectedSalary' 'HoursPerWeek'\n",
    "    categorical features: 'Country' CompanySize'\n"
   ]
  },
  {
   "cell_type": "markdown",
   "metadata": {},
   "source": [
    "### Clean data"
   ]
  },
  {
   "cell_type": "code",
   "execution_count": 134,
   "metadata": {},
   "outputs": [],
   "source": [
    "def clean_data(df):\n",
    "    '''\n",
    "    INPUT\n",
    "    df - pandas dataframe \n",
    "    \n",
    "    OUTPUT\n",
    "    X - A matrix holding all of the variables you want to consider when predicting the response\n",
    "    y - the corresponding response vector\n",
    "    \n",
    "    This function cleans df using the following steps to produce X and y:\n",
    "    1. Create X as all the columns that are not the 'JobSatisfaction' column\n",
    "    3. Create y as the JobSatisfaction column\n",
    "    4. Drop the JobSatisfaction, CareerSatisfaction, Respondent, and the ExpectedSalary columns from X\n",
    "    5. For each numeric variable in X, fill the column with the mean value of the column.\n",
    "    6. Create dummy columns for all the categorical variables in X, drop the original columns\n",
    "    \n",
    "    '''\n",
    "    # Drop rows with missing salary values\n",
    "    y = df['JobSatisfaction']\n",
    "    \n",
    "    #Drop respondent and expected salary columns\n",
    "    df = df.drop(['Respondent', 'ExpectedSalary', 'JobSatisfaction', 'CareerSatisfaction'], axis=1)\n",
    "    \n",
    "    # Fill numeric columns with the mean\n",
    "    num_vars = df.select_dtypes(include=['float', 'int']).columns\n",
    "    for col in num_vars:\n",
    "        df[col].fillna((df[col].mean()), inplace=True)\n",
    "        \n",
    "    # Dummy the categorical variables\n",
    "    for var in df.select_dtypes(include=['object']).copy().columns:\n",
    "        # for each cat add dummy var, drop original column\n",
    "        df = pd.concat([df.drop(var, axis=1), pd.get_dummies(df[var], prefix=var, prefix_sep='_', drop_first=True)], axis=1)\n",
    "    \n",
    "    X = df.select_dtypes(include=['float', 'int'])\n",
    "    return X, y\n"
   ]
  },
  {
   "cell_type": "code",
   "execution_count": 139,
   "metadata": {},
   "outputs": [],
   "source": [
    "# pick the features in the data\n",
    "happy_programmer_model_df = happy_programmer_df[['HoursPerWeek', 'Salary','Professional', 'ProgramHobby', 'Country', 'University','FormalEducation','MajorUndergrad','HomeRemote',\n",
    "           'CompanySize', 'CompanyType', 'YearsProgram', 'YearsCodedJob', 'YearsCodedJobPast', 'JobSecurity','Currency',\n",
    "        'Overpaid',  'EducationTypes', 'SelfTaughtTypes', 'Race','Gender','Respondent', 'ExpectedSalary', 'JobSatisfaction', 'CareerSatisfaction'\n",
    "           ]\n",
    "]\n"
   ]
  },
  {
   "cell_type": "code",
   "execution_count": 140,
   "metadata": {},
   "outputs": [],
   "source": [
    "X, y = clean_data(happy_programmer_model_df)"
   ]
  },
  {
   "cell_type": "markdown",
   "metadata": {},
   "source": [
    "### Modeling"
   ]
  },
  {
   "cell_type": "code",
   "execution_count": 142,
   "metadata": {},
   "outputs": [
    {
     "data": {
      "text/plain": [
       "HoursPerWeek    5.565513e+04\n",
       "Salary          1.146306e+09\n",
       "dtype: float64"
      ]
     },
     "execution_count": 142,
     "metadata": {},
     "output_type": "execute_result"
    }
   ],
   "source": [
    "X.sum()"
   ]
  },
  {
   "cell_type": "code",
   "execution_count": 118,
   "metadata": {},
   "outputs": [],
   "source": [
    "def find_optimal_lm_mod(X, y, cutoffs, test_size = .30, random_state=42, plot=True):\n",
    "    '''\n",
    "    INPUT\n",
    "    X - pandas dataframe, X matrix\n",
    "    y - pandas dataframe, response variable\n",
    "    cutoffs - list of ints, cutoff for number of non-zero values in dummy categorical vars\n",
    "    test_size - float between 0 and 1, default 0.3, determines the proportion of data as test data\n",
    "    random_state - int, default 42, controls random state for train_test_split\n",
    "    plot - boolean, default 0.3, True to plot result\n",
    "\n",
    "    OUTPUT\n",
    "    r2_scores_test - list of floats of r2 scores on the test data\n",
    "    r2_scores_train - list of floats of r2 scores on the train data\n",
    "    lm_model - model object from sklearn\n",
    "    X_train, X_test, y_train, y_test - output from sklearn train test split used for optimal model\n",
    "    '''\n",
    "    r2_scores_test, r2_scores_train, num_feats, results = [], [], [], dict()\n",
    "    for cutoff in cutoffs:\n",
    "\n",
    "        #reduce X matrix\n",
    "        reduce_X = X.iloc[:, np.where((X.sum() > cutoff) == True)[0]]\n",
    "        num_feats.append(reduce_X.shape[1])\n",
    "\n",
    "        #split the data into train and test\n",
    "        X_train, X_test, y_train, y_test = train_test_split(reduce_X, y, test_size = test_size, random_state=random_state)\n",
    "\n",
    "        #fit the model and obtain pred response\n",
    "        lm_model = LinearRegression(normalize=True)\n",
    "        lm_model.fit(X_train, y_train)\n",
    "        y_test_preds = lm_model.predict(X_test)\n",
    "        y_train_preds = lm_model.predict(X_train)\n",
    "\n",
    "        #append the r2 value from the test set\n",
    "        r2_scores_test.append(r2_score(y_test, y_test_preds))\n",
    "        r2_scores_train.append(r2_score(y_train, y_train_preds))\n",
    "        results[str(cutoff)] = r2_score(y_test, y_test_preds)\n",
    "\n",
    "    if plot:\n",
    "        plt.plot(num_feats, r2_scores_test, label=\"Test\", alpha=.5)\n",
    "        plt.plot(num_feats, r2_scores_train, label=\"Train\", alpha=.5)\n",
    "        plt.xlabel('Number of Features')\n",
    "        plt.ylabel('Rsquared')\n",
    "        plt.title('Rsquared by Number of Features')\n",
    "        plt.legend(loc=1)\n",
    "        plt.show()\n",
    "\n",
    "    best_cutoff = max(results, key=results.get)\n",
    "\n",
    "    #reduce X matrix\n",
    "    reduce_X = X.iloc[:, np.where((X.sum() > int(best_cutoff)) == True)[0]]\n",
    "    num_feats.append(reduce_X.shape[1])\n",
    "\n",
    "    #split the data into train and test\n",
    "    X_train, X_test, y_train, y_test = train_test_split(reduce_X, y, test_size = test_size, random_state=random_state)\n",
    "\n",
    "    #fit the model\n",
    "    lm_model = LinearRegression(normalize=True)\n",
    "    lm_model.fit(X_train, y_train)\n",
    "\n",
    "    return r2_scores_test, r2_scores_train, lm_model, X_train, X_test, y_train, y_test"
   ]
  },
  {
   "cell_type": "code",
   "execution_count": 119,
   "metadata": {},
   "outputs": [
    {
     "ename": "TypeError",
     "evalue": "'>' not supported between instances of 'str' and 'int'",
     "output_type": "error",
     "traceback": [
      "\u001b[0;31m---------------------------------------------------------------------------\u001b[0m",
      "\u001b[0;31mTypeError\u001b[0m                                 Traceback (most recent call last)",
      "\u001b[0;32m<ipython-input-119-267e59e53330>\u001b[0m in \u001b[0;36m<module>\u001b[0;34m\u001b[0m\n\u001b[1;32m      2\u001b[0m \u001b[0;31m#Therefore, lower values for the cutoff provides more predictors in the model.\u001b[0m\u001b[0;34m\u001b[0m\u001b[0;34m\u001b[0m\u001b[0;34m\u001b[0m\u001b[0m\n\u001b[1;32m      3\u001b[0m \u001b[0mcutoffs\u001b[0m \u001b[0;34m=\u001b[0m \u001b[0;34m[\u001b[0m\u001b[0;36m5000\u001b[0m\u001b[0;34m,\u001b[0m \u001b[0;36m3500\u001b[0m\u001b[0;34m,\u001b[0m \u001b[0;36m2500\u001b[0m\u001b[0;34m,\u001b[0m \u001b[0;36m1000\u001b[0m\u001b[0;34m,\u001b[0m \u001b[0;36m100\u001b[0m\u001b[0;34m]\u001b[0m\u001b[0;34m\u001b[0m\u001b[0;34m\u001b[0m\u001b[0m\n\u001b[0;32m----> 4\u001b[0;31m \u001b[0mr2_scores_test\u001b[0m\u001b[0;34m,\u001b[0m \u001b[0mr2_scores_train\u001b[0m\u001b[0;34m,\u001b[0m \u001b[0mlm_model\u001b[0m\u001b[0;34m,\u001b[0m \u001b[0mX_train\u001b[0m\u001b[0;34m,\u001b[0m \u001b[0mX_test\u001b[0m\u001b[0;34m,\u001b[0m \u001b[0my_train\u001b[0m\u001b[0;34m,\u001b[0m \u001b[0my_test\u001b[0m \u001b[0;34m=\u001b[0m \u001b[0mfind_optimal_lm_mod\u001b[0m\u001b[0;34m(\u001b[0m\u001b[0mX\u001b[0m\u001b[0;34m,\u001b[0m \u001b[0my\u001b[0m\u001b[0;34m,\u001b[0m \u001b[0mcutoffs\u001b[0m\u001b[0;34m)\u001b[0m\u001b[0;34m\u001b[0m\u001b[0;34m\u001b[0m\u001b[0m\n\u001b[0m",
      "\u001b[0;32m<ipython-input-118-cd846e66c48b>\u001b[0m in \u001b[0;36mfind_optimal_lm_mod\u001b[0;34m(X, y, cutoffs, test_size, random_state, plot)\u001b[0m\n\u001b[1;32m     19\u001b[0m \u001b[0;34m\u001b[0m\u001b[0m\n\u001b[1;32m     20\u001b[0m         \u001b[0;31m#reduce X matrix\u001b[0m\u001b[0;34m\u001b[0m\u001b[0;34m\u001b[0m\u001b[0;34m\u001b[0m\u001b[0m\n\u001b[0;32m---> 21\u001b[0;31m         \u001b[0mreduce_X\u001b[0m \u001b[0;34m=\u001b[0m \u001b[0mX\u001b[0m\u001b[0;34m.\u001b[0m\u001b[0miloc\u001b[0m\u001b[0;34m[\u001b[0m\u001b[0;34m:\u001b[0m\u001b[0;34m,\u001b[0m \u001b[0mnp\u001b[0m\u001b[0;34m.\u001b[0m\u001b[0mwhere\u001b[0m\u001b[0;34m(\u001b[0m\u001b[0;34m(\u001b[0m\u001b[0mX\u001b[0m\u001b[0;34m.\u001b[0m\u001b[0msum\u001b[0m\u001b[0;34m(\u001b[0m\u001b[0;34m)\u001b[0m \u001b[0;34m>\u001b[0m \u001b[0mcutoff\u001b[0m\u001b[0;34m)\u001b[0m \u001b[0;34m==\u001b[0m \u001b[0;32mTrue\u001b[0m\u001b[0;34m)\u001b[0m\u001b[0;34m[\u001b[0m\u001b[0;36m0\u001b[0m\u001b[0;34m]\u001b[0m\u001b[0;34m]\u001b[0m\u001b[0;34m\u001b[0m\u001b[0;34m\u001b[0m\u001b[0m\n\u001b[0m\u001b[1;32m     22\u001b[0m         \u001b[0mnum_feats\u001b[0m\u001b[0;34m.\u001b[0m\u001b[0mappend\u001b[0m\u001b[0;34m(\u001b[0m\u001b[0mreduce_X\u001b[0m\u001b[0;34m.\u001b[0m\u001b[0mshape\u001b[0m\u001b[0;34m[\u001b[0m\u001b[0;36m1\u001b[0m\u001b[0;34m]\u001b[0m\u001b[0;34m)\u001b[0m\u001b[0;34m\u001b[0m\u001b[0;34m\u001b[0m\u001b[0m\n\u001b[1;32m     23\u001b[0m \u001b[0;34m\u001b[0m\u001b[0m\n",
      "\u001b[0;32m~/opt/anaconda3/lib/python3.8/site-packages/pandas/core/ops/common.py\u001b[0m in \u001b[0;36mnew_method\u001b[0;34m(self, other)\u001b[0m\n\u001b[1;32m     62\u001b[0m         \u001b[0mother\u001b[0m \u001b[0;34m=\u001b[0m \u001b[0mitem_from_zerodim\u001b[0m\u001b[0;34m(\u001b[0m\u001b[0mother\u001b[0m\u001b[0;34m)\u001b[0m\u001b[0;34m\u001b[0m\u001b[0;34m\u001b[0m\u001b[0m\n\u001b[1;32m     63\u001b[0m \u001b[0;34m\u001b[0m\u001b[0m\n\u001b[0;32m---> 64\u001b[0;31m         \u001b[0;32mreturn\u001b[0m \u001b[0mmethod\u001b[0m\u001b[0;34m(\u001b[0m\u001b[0mself\u001b[0m\u001b[0;34m,\u001b[0m \u001b[0mother\u001b[0m\u001b[0;34m)\u001b[0m\u001b[0;34m\u001b[0m\u001b[0;34m\u001b[0m\u001b[0m\n\u001b[0m\u001b[1;32m     65\u001b[0m \u001b[0;34m\u001b[0m\u001b[0m\n\u001b[1;32m     66\u001b[0m     \u001b[0;32mreturn\u001b[0m \u001b[0mnew_method\u001b[0m\u001b[0;34m\u001b[0m\u001b[0;34m\u001b[0m\u001b[0m\n",
      "\u001b[0;32m~/opt/anaconda3/lib/python3.8/site-packages/pandas/core/ops/__init__.py\u001b[0m in \u001b[0;36mwrapper\u001b[0;34m(self, other)\u001b[0m\n\u001b[1;32m    527\u001b[0m         \u001b[0mrvalues\u001b[0m \u001b[0;34m=\u001b[0m \u001b[0mextract_array\u001b[0m\u001b[0;34m(\u001b[0m\u001b[0mother\u001b[0m\u001b[0;34m,\u001b[0m \u001b[0mextract_numpy\u001b[0m\u001b[0;34m=\u001b[0m\u001b[0;32mTrue\u001b[0m\u001b[0;34m)\u001b[0m\u001b[0;34m\u001b[0m\u001b[0;34m\u001b[0m\u001b[0m\n\u001b[1;32m    528\u001b[0m \u001b[0;34m\u001b[0m\u001b[0m\n\u001b[0;32m--> 529\u001b[0;31m         \u001b[0mres_values\u001b[0m \u001b[0;34m=\u001b[0m \u001b[0mcomparison_op\u001b[0m\u001b[0;34m(\u001b[0m\u001b[0mlvalues\u001b[0m\u001b[0;34m,\u001b[0m \u001b[0mrvalues\u001b[0m\u001b[0;34m,\u001b[0m \u001b[0mop\u001b[0m\u001b[0;34m)\u001b[0m\u001b[0;34m\u001b[0m\u001b[0;34m\u001b[0m\u001b[0m\n\u001b[0m\u001b[1;32m    530\u001b[0m \u001b[0;34m\u001b[0m\u001b[0m\n\u001b[1;32m    531\u001b[0m         \u001b[0;32mreturn\u001b[0m \u001b[0m_construct_result\u001b[0m\u001b[0;34m(\u001b[0m\u001b[0mself\u001b[0m\u001b[0;34m,\u001b[0m \u001b[0mres_values\u001b[0m\u001b[0;34m,\u001b[0m \u001b[0mindex\u001b[0m\u001b[0;34m=\u001b[0m\u001b[0mself\u001b[0m\u001b[0;34m.\u001b[0m\u001b[0mindex\u001b[0m\u001b[0;34m,\u001b[0m \u001b[0mname\u001b[0m\u001b[0;34m=\u001b[0m\u001b[0mres_name\u001b[0m\u001b[0;34m)\u001b[0m\u001b[0;34m\u001b[0m\u001b[0;34m\u001b[0m\u001b[0m\n",
      "\u001b[0;32m~/opt/anaconda3/lib/python3.8/site-packages/pandas/core/ops/array_ops.py\u001b[0m in \u001b[0;36mcomparison_op\u001b[0;34m(left, right, op)\u001b[0m\n\u001b[1;32m    245\u001b[0m \u001b[0;34m\u001b[0m\u001b[0m\n\u001b[1;32m    246\u001b[0m     \u001b[0;32melif\u001b[0m \u001b[0mis_object_dtype\u001b[0m\u001b[0;34m(\u001b[0m\u001b[0mlvalues\u001b[0m\u001b[0;34m.\u001b[0m\u001b[0mdtype\u001b[0m\u001b[0;34m)\u001b[0m\u001b[0;34m:\u001b[0m\u001b[0;34m\u001b[0m\u001b[0;34m\u001b[0m\u001b[0m\n\u001b[0;32m--> 247\u001b[0;31m         \u001b[0mres_values\u001b[0m \u001b[0;34m=\u001b[0m \u001b[0mcomp_method_OBJECT_ARRAY\u001b[0m\u001b[0;34m(\u001b[0m\u001b[0mop\u001b[0m\u001b[0;34m,\u001b[0m \u001b[0mlvalues\u001b[0m\u001b[0;34m,\u001b[0m \u001b[0mrvalues\u001b[0m\u001b[0;34m)\u001b[0m\u001b[0;34m\u001b[0m\u001b[0;34m\u001b[0m\u001b[0m\n\u001b[0m\u001b[1;32m    248\u001b[0m \u001b[0;34m\u001b[0m\u001b[0m\n\u001b[1;32m    249\u001b[0m     \u001b[0;32melse\u001b[0m\u001b[0;34m:\u001b[0m\u001b[0;34m\u001b[0m\u001b[0;34m\u001b[0m\u001b[0m\n",
      "\u001b[0;32m~/opt/anaconda3/lib/python3.8/site-packages/pandas/core/ops/array_ops.py\u001b[0m in \u001b[0;36mcomp_method_OBJECT_ARRAY\u001b[0;34m(op, x, y)\u001b[0m\n\u001b[1;32m     55\u001b[0m         \u001b[0mresult\u001b[0m \u001b[0;34m=\u001b[0m \u001b[0mlibops\u001b[0m\u001b[0;34m.\u001b[0m\u001b[0mvec_compare\u001b[0m\u001b[0;34m(\u001b[0m\u001b[0mx\u001b[0m\u001b[0;34m.\u001b[0m\u001b[0mravel\u001b[0m\u001b[0;34m(\u001b[0m\u001b[0;34m)\u001b[0m\u001b[0;34m,\u001b[0m \u001b[0my\u001b[0m\u001b[0;34m,\u001b[0m \u001b[0mop\u001b[0m\u001b[0;34m)\u001b[0m\u001b[0;34m\u001b[0m\u001b[0;34m\u001b[0m\u001b[0m\n\u001b[1;32m     56\u001b[0m     \u001b[0;32melse\u001b[0m\u001b[0;34m:\u001b[0m\u001b[0;34m\u001b[0m\u001b[0;34m\u001b[0m\u001b[0m\n\u001b[0;32m---> 57\u001b[0;31m         \u001b[0mresult\u001b[0m \u001b[0;34m=\u001b[0m \u001b[0mlibops\u001b[0m\u001b[0;34m.\u001b[0m\u001b[0mscalar_compare\u001b[0m\u001b[0;34m(\u001b[0m\u001b[0mx\u001b[0m\u001b[0;34m.\u001b[0m\u001b[0mravel\u001b[0m\u001b[0;34m(\u001b[0m\u001b[0;34m)\u001b[0m\u001b[0;34m,\u001b[0m \u001b[0my\u001b[0m\u001b[0;34m,\u001b[0m \u001b[0mop\u001b[0m\u001b[0;34m)\u001b[0m\u001b[0;34m\u001b[0m\u001b[0;34m\u001b[0m\u001b[0m\n\u001b[0m\u001b[1;32m     58\u001b[0m     \u001b[0;32mreturn\u001b[0m \u001b[0mresult\u001b[0m\u001b[0;34m.\u001b[0m\u001b[0mreshape\u001b[0m\u001b[0;34m(\u001b[0m\u001b[0mx\u001b[0m\u001b[0;34m.\u001b[0m\u001b[0mshape\u001b[0m\u001b[0;34m)\u001b[0m\u001b[0;34m\u001b[0m\u001b[0;34m\u001b[0m\u001b[0m\n\u001b[1;32m     59\u001b[0m \u001b[0;34m\u001b[0m\u001b[0m\n",
      "\u001b[0;32mpandas/_libs/ops.pyx\u001b[0m in \u001b[0;36mpandas._libs.ops.scalar_compare\u001b[0;34m()\u001b[0m\n",
      "\u001b[0;31mTypeError\u001b[0m: '>' not supported between instances of 'str' and 'int'"
     ]
    }
   ],
   "source": [
    "#cutoffs here pertains to the number of missing values allowed in the used columns.\n",
    "#Therefore, lower values for the cutoff provides more predictors in the model.\n",
    "cutoffs = [5000, 3500, 2500, 1000, 100]\n",
    "r2_scores_test, r2_scores_train, lm_model, X_train, X_test, y_train, y_test = find_optimal_lm_mod(X, y, cutoffs)"
   ]
  },
  {
   "cell_type": "code",
   "execution_count": null,
   "metadata": {},
   "outputs": [],
   "source": [
    "def coef_weights(coefficients, X_train):\n",
    "    '''\n",
    "    INPUT:\n",
    "    coefficients - the coefficients of the linear model \n",
    "    X_train - the training data, so the column names can be used\n",
    "    OUTPUT:\n",
    "    coefs_df - a dataframe holding the coefficient, estimate, and abs(estimate)\n",
    "    \n",
    "    Provides a dataframe that can be used to understand the most influential coefficients\n",
    "    in a linear model by providing the coefficient estimates along with the name of the \n",
    "    variable attached to the coefficient.\n",
    "    '''\n",
    "    coefs_df = pd.DataFrame()\n",
    "    coefs_df['est_int'] = X_train.columns\n",
    "    coefs_df['coefs'] = lm_model.coef_\n",
    "    coefs_df['abs_coefs'] = np.abs(lm_model.coef_)\n",
    "    coefs_df = coefs_df.sort_values('abs_coefs', ascending=False)\n",
    "    return coefs_df\n",
    "\n",
    "#Use the function\n",
    "coef_df = coef_weights(lm_model.coef_, X_train)\n",
    "\n",
    "#A quick look at the top results\n",
    "coef_df.head(20)"
   ]
  },
  {
   "cell_type": "code",
   "execution_count": 59,
   "metadata": {},
   "outputs": [
    {
     "data": {
      "text/html": [
       "<div>\n",
       "<style scoped>\n",
       "    .dataframe tbody tr th:only-of-type {\n",
       "        vertical-align: middle;\n",
       "    }\n",
       "\n",
       "    .dataframe tbody tr th {\n",
       "        vertical-align: top;\n",
       "    }\n",
       "\n",
       "    .dataframe thead th {\n",
       "        text-align: right;\n",
       "    }\n",
       "</style>\n",
       "<table border=\"1\" class=\"dataframe\">\n",
       "  <thead>\n",
       "    <tr style=\"text-align: right;\">\n",
       "      <th></th>\n",
       "      <th>est_int</th>\n",
       "      <th>coefs</th>\n",
       "      <th>abs_coefs</th>\n",
       "    </tr>\n",
       "  </thead>\n",
       "  <tbody>\n",
       "    <tr>\n",
       "      <th>91</th>\n",
       "      <td>JobSeekingStatus_I am not interested in new jo...</td>\n",
       "      <td>0.250163</td>\n",
       "      <td>0.250163</td>\n",
       "    </tr>\n",
       "    <tr>\n",
       "      <th>21</th>\n",
       "      <td>HomeRemote_All or almost all the time (I'm ful...</td>\n",
       "      <td>0.145819</td>\n",
       "      <td>0.145819</td>\n",
       "    </tr>\n",
       "    <tr>\n",
       "      <th>92</th>\n",
       "      <td>JobSeekingStatus_I'm not actively looking, but...</td>\n",
       "      <td>-0.124226</td>\n",
       "      <td>0.124226</td>\n",
       "    </tr>\n",
       "    <tr>\n",
       "      <th>207</th>\n",
       "      <td>EquipmentSatisfiedMonitors_Very satisfied</td>\n",
       "      <td>0.121649</td>\n",
       "      <td>0.121649</td>\n",
       "    </tr>\n",
       "    <tr>\n",
       "      <th>237</th>\n",
       "      <td>InfluenceDeptTech_Not much influence</td>\n",
       "      <td>0.121456</td>\n",
       "      <td>0.121456</td>\n",
       "    </tr>\n",
       "  </tbody>\n",
       "</table>\n",
       "</div>"
      ],
      "text/plain": [
       "                                               est_int     coefs  abs_coefs\n",
       "91   JobSeekingStatus_I am not interested in new jo...  0.250163   0.250163\n",
       "21   HomeRemote_All or almost all the time (I'm ful...  0.145819   0.145819\n",
       "92   JobSeekingStatus_I'm not actively looking, but... -0.124226   0.124226\n",
       "207          EquipmentSatisfiedMonitors_Very satisfied  0.121649   0.121649\n",
       "237               InfluenceDeptTech_Not much influence  0.121456   0.121456"
      ]
     },
     "execution_count": 59,
     "metadata": {},
     "output_type": "execute_result"
    }
   ],
   "source": [
    "coef_df.head(5)"
   ]
  },
  {
   "cell_type": "code",
   "execution_count": 61,
   "metadata": {},
   "outputs": [
    {
     "data": {
      "text/html": [
       "<div>\n",
       "<style scoped>\n",
       "    .dataframe tbody tr th:only-of-type {\n",
       "        vertical-align: middle;\n",
       "    }\n",
       "\n",
       "    .dataframe tbody tr th {\n",
       "        vertical-align: top;\n",
       "    }\n",
       "\n",
       "    .dataframe thead th {\n",
       "        text-align: right;\n",
       "    }\n",
       "</style>\n",
       "<table border=\"1\" class=\"dataframe\">\n",
       "  <thead>\n",
       "    <tr style=\"text-align: right;\">\n",
       "      <th></th>\n",
       "      <th>est_int</th>\n",
       "      <th>coefs</th>\n",
       "      <th>abs_coefs</th>\n",
       "    </tr>\n",
       "  </thead>\n",
       "  <tbody>\n",
       "    <tr>\n",
       "      <th>307</th>\n",
       "      <td>Gender_Male</td>\n",
       "      <td>3.918610e-04</td>\n",
       "      <td>3.918610e-04</td>\n",
       "    </tr>\n",
       "    <tr>\n",
       "      <th>145</th>\n",
       "      <td>ImportantHiringPMExp_Not at all important</td>\n",
       "      <td>-2.760556e-04</td>\n",
       "      <td>2.760556e-04</td>\n",
       "    </tr>\n",
       "    <tr>\n",
       "      <th>277</th>\n",
       "      <td>StackOverflowNewQuestion_Once or twice</td>\n",
       "      <td>-2.056820e-04</td>\n",
       "      <td>2.056820e-04</td>\n",
       "    </tr>\n",
       "    <tr>\n",
       "      <th>111</th>\n",
       "      <td>AssessJobCommute_Somewhat important</td>\n",
       "      <td>-1.618894e-04</td>\n",
       "      <td>1.618894e-04</td>\n",
       "    </tr>\n",
       "    <tr>\n",
       "      <th>2</th>\n",
       "      <td>Salary</td>\n",
       "      <td>-1.842118e-07</td>\n",
       "      <td>1.842118e-07</td>\n",
       "    </tr>\n",
       "  </tbody>\n",
       "</table>\n",
       "</div>"
      ],
      "text/plain": [
       "                                       est_int         coefs     abs_coefs\n",
       "307                                Gender_Male  3.918610e-04  3.918610e-04\n",
       "145  ImportantHiringPMExp_Not at all important -2.760556e-04  2.760556e-04\n",
       "277     StackOverflowNewQuestion_Once or twice -2.056820e-04  2.056820e-04\n",
       "111        AssessJobCommute_Somewhat important -1.618894e-04  1.618894e-04\n",
       "2                                       Salary -1.842118e-07  1.842118e-07"
      ]
     },
     "execution_count": 61,
     "metadata": {},
     "output_type": "execute_result"
    }
   ],
   "source": [
    "coef_df.tail(5)"
   ]
  },
  {
   "cell_type": "markdown",
   "metadata": {},
   "source": [
    "### Results"
   ]
  },
  {
   "cell_type": "markdown",
   "metadata": {},
   "source": [
    "### Q2: Is salary a important part for the happy programmers?\n",
    "happy programmers: okay with the job and career, with 6 and above \n",
    "\n",
    "\n",
    "features:\n",
    "    quantitative features:  'Salary', 'ExpectedSalary' 'HoursPerWeek'\n",
    "    categorical features: 'Country' CompanySize'\n"
   ]
  },
  {
   "cell_type": "code",
   "execution_count": null,
   "metadata": {},
   "outputs": [],
   "source": []
  }
 ],
 "metadata": {
  "kernelspec": {
   "display_name": "Python 3",
   "language": "python",
   "name": "python3"
  },
  "language_info": {
   "codemirror_mode": {
    "name": "ipython",
    "version": 3
   },
   "file_extension": ".py",
   "mimetype": "text/x-python",
   "name": "python",
   "nbconvert_exporter": "python",
   "pygments_lexer": "ipython3",
   "version": "3.8.3"
  }
 },
 "nbformat": 4,
 "nbformat_minor": 4
}
