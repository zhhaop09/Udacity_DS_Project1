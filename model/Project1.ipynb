{
 "cells": [
  {
   "cell_type": "markdown",
   "metadata": {},
   "source": [
    "# How to make a programmer happy, seriously?!"
   ]
  },
  {
   "cell_type": "markdown",
   "metadata": {},
   "source": [
    "### Introduction\n",
    "In this study, we will identify the key factors which contribute to the happiness of a programmer. The data we are using is the 2017 survey from Stack Overflow with 51392 respondents. The questions we plan to answer are what is the distribution of happy programmer with respect to country and job type, and what are the top five and bottom five factors related to the happiness of the programmers. "
   ]
  },
  {
   "cell_type": "code",
   "execution_count": 159,
   "metadata": {},
   "outputs": [],
   "source": [
    "import numpy as np\n",
    "import pandas as pd\n",
    "import matplotlib.pyplot as plt\n",
    "from sklearn.linear_model import LinearRegression\n",
    "from sklearn.preprocessing import PolynomialFeatures, StandardScaler \n",
    "from sklearn.pipeline import Pipeline\n",
    "from sklearn.model_selection import GridSearchCV\n",
    "from sklearn.model_selection import train_test_split\n",
    "from sklearn.metrics import r2_score, mean_squared_error\n",
    "import seaborn as sns\n",
    "%matplotlib inline"
   ]
  },
  {
   "cell_type": "markdown",
   "metadata": {},
   "source": [
    "###  Data Understanding"
   ]
  },
  {
   "cell_type": "code",
   "execution_count": 160,
   "metadata": {},
   "outputs": [],
   "source": [
    "data = pd.read_csv('../raw_data/survey_results_public.csv')\n",
    "schema = pd.read_csv('../raw_data/survey_results_schema.csv')"
   ]
  },
  {
   "cell_type": "code",
   "execution_count": 161,
   "metadata": {},
   "outputs": [
    {
     "data": {
      "text/html": [
       "<div>\n",
       "<style scoped>\n",
       "    .dataframe tbody tr th:only-of-type {\n",
       "        vertical-align: middle;\n",
       "    }\n",
       "\n",
       "    .dataframe tbody tr th {\n",
       "        vertical-align: top;\n",
       "    }\n",
       "\n",
       "    .dataframe thead th {\n",
       "        text-align: right;\n",
       "    }\n",
       "</style>\n",
       "<table border=\"1\" class=\"dataframe\">\n",
       "  <thead>\n",
       "    <tr style=\"text-align: right;\">\n",
       "      <th></th>\n",
       "      <th>Respondent</th>\n",
       "      <th>CareerSatisfaction</th>\n",
       "      <th>JobSatisfaction</th>\n",
       "      <th>HoursPerWeek</th>\n",
       "      <th>StackOverflowSatisfaction</th>\n",
       "      <th>Salary</th>\n",
       "      <th>ExpectedSalary</th>\n",
       "    </tr>\n",
       "  </thead>\n",
       "  <tbody>\n",
       "    <tr>\n",
       "      <th>count</th>\n",
       "      <td>51392.000000</td>\n",
       "      <td>42695.000000</td>\n",
       "      <td>40376.000000</td>\n",
       "      <td>20600.000000</td>\n",
       "      <td>36592.000000</td>\n",
       "      <td>12891.000000</td>\n",
       "      <td>2566.000000</td>\n",
       "    </tr>\n",
       "    <tr>\n",
       "      <th>mean</th>\n",
       "      <td>25696.500000</td>\n",
       "      <td>7.300574</td>\n",
       "      <td>6.957078</td>\n",
       "      <td>3.952282</td>\n",
       "      <td>8.429875</td>\n",
       "      <td>56298.480641</td>\n",
       "      <td>33142.220468</td>\n",
       "    </tr>\n",
       "    <tr>\n",
       "      <th>std</th>\n",
       "      <td>14835.736854</td>\n",
       "      <td>1.955444</td>\n",
       "      <td>2.167652</td>\n",
       "      <td>7.564722</td>\n",
       "      <td>1.390635</td>\n",
       "      <td>39880.905277</td>\n",
       "      <td>30162.988829</td>\n",
       "    </tr>\n",
       "    <tr>\n",
       "      <th>min</th>\n",
       "      <td>1.000000</td>\n",
       "      <td>0.000000</td>\n",
       "      <td>0.000000</td>\n",
       "      <td>0.000000</td>\n",
       "      <td>0.000000</td>\n",
       "      <td>0.000000</td>\n",
       "      <td>0.000000</td>\n",
       "    </tr>\n",
       "    <tr>\n",
       "      <th>25%</th>\n",
       "      <td>12848.750000</td>\n",
       "      <td>6.000000</td>\n",
       "      <td>6.000000</td>\n",
       "      <td>1.000000</td>\n",
       "      <td>8.000000</td>\n",
       "      <td>26440.371839</td>\n",
       "      <td>4490.492484</td>\n",
       "    </tr>\n",
       "    <tr>\n",
       "      <th>50%</th>\n",
       "      <td>25696.500000</td>\n",
       "      <td>8.000000</td>\n",
       "      <td>7.000000</td>\n",
       "      <td>1.000000</td>\n",
       "      <td>9.000000</td>\n",
       "      <td>50000.000000</td>\n",
       "      <td>29364.263691</td>\n",
       "    </tr>\n",
       "    <tr>\n",
       "      <th>75%</th>\n",
       "      <td>38544.250000</td>\n",
       "      <td>9.000000</td>\n",
       "      <td>8.000000</td>\n",
       "      <td>4.000000</td>\n",
       "      <td>10.000000</td>\n",
       "      <td>80000.000000</td>\n",
       "      <td>50403.225806</td>\n",
       "    </tr>\n",
       "    <tr>\n",
       "      <th>max</th>\n",
       "      <td>51392.000000</td>\n",
       "      <td>10.000000</td>\n",
       "      <td>10.000000</td>\n",
       "      <td>40.000000</td>\n",
       "      <td>10.000000</td>\n",
       "      <td>197000.000000</td>\n",
       "      <td>187500.000000</td>\n",
       "    </tr>\n",
       "  </tbody>\n",
       "</table>\n",
       "</div>"
      ],
      "text/plain": [
       "         Respondent  CareerSatisfaction  JobSatisfaction  HoursPerWeek  \\\n",
       "count  51392.000000        42695.000000     40376.000000  20600.000000   \n",
       "mean   25696.500000            7.300574         6.957078      3.952282   \n",
       "std    14835.736854            1.955444         2.167652      7.564722   \n",
       "min        1.000000            0.000000         0.000000      0.000000   \n",
       "25%    12848.750000            6.000000         6.000000      1.000000   \n",
       "50%    25696.500000            8.000000         7.000000      1.000000   \n",
       "75%    38544.250000            9.000000         8.000000      4.000000   \n",
       "max    51392.000000           10.000000        10.000000     40.000000   \n",
       "\n",
       "       StackOverflowSatisfaction         Salary  ExpectedSalary  \n",
       "count               36592.000000   12891.000000     2566.000000  \n",
       "mean                    8.429875   56298.480641    33142.220468  \n",
       "std                     1.390635   39880.905277    30162.988829  \n",
       "min                     0.000000       0.000000        0.000000  \n",
       "25%                     8.000000   26440.371839     4490.492484  \n",
       "50%                     9.000000   50000.000000    29364.263691  \n",
       "75%                    10.000000   80000.000000    50403.225806  \n",
       "max                    10.000000  197000.000000   187500.000000  "
      ]
     },
     "execution_count": 161,
     "metadata": {},
     "output_type": "execute_result"
    }
   ],
   "source": [
    "data.describe()"
   ]
  },
  {
   "cell_type": "code",
   "execution_count": 180,
   "metadata": {},
   "outputs": [
    {
     "data": {
      "text/html": [
       "<div>\n",
       "<style scoped>\n",
       "    .dataframe tbody tr th:only-of-type {\n",
       "        vertical-align: middle;\n",
       "    }\n",
       "\n",
       "    .dataframe tbody tr th {\n",
       "        vertical-align: top;\n",
       "    }\n",
       "\n",
       "    .dataframe thead th {\n",
       "        text-align: right;\n",
       "    }\n",
       "</style>\n",
       "<table border=\"1\" class=\"dataframe\">\n",
       "  <thead>\n",
       "    <tr style=\"text-align: right;\">\n",
       "      <th></th>\n",
       "      <th>Respondent</th>\n",
       "      <th>Professional</th>\n",
       "      <th>ProgramHobby</th>\n",
       "      <th>Country</th>\n",
       "      <th>University</th>\n",
       "      <th>EmploymentStatus</th>\n",
       "      <th>FormalEducation</th>\n",
       "      <th>MajorUndergrad</th>\n",
       "      <th>HomeRemote</th>\n",
       "      <th>CompanySize</th>\n",
       "      <th>...</th>\n",
       "      <th>StackOverflowMakeMoney</th>\n",
       "      <th>Gender</th>\n",
       "      <th>HighestEducationParents</th>\n",
       "      <th>Race</th>\n",
       "      <th>SurveyLong</th>\n",
       "      <th>QuestionsInteresting</th>\n",
       "      <th>QuestionsConfusing</th>\n",
       "      <th>InterestedAnswers</th>\n",
       "      <th>Salary</th>\n",
       "      <th>ExpectedSalary</th>\n",
       "    </tr>\n",
       "  </thead>\n",
       "  <tbody>\n",
       "    <tr>\n",
       "      <th>0</th>\n",
       "      <td>False</td>\n",
       "      <td>False</td>\n",
       "      <td>False</td>\n",
       "      <td>False</td>\n",
       "      <td>False</td>\n",
       "      <td>False</td>\n",
       "      <td>False</td>\n",
       "      <td>True</td>\n",
       "      <td>True</td>\n",
       "      <td>True</td>\n",
       "      <td>...</td>\n",
       "      <td>False</td>\n",
       "      <td>False</td>\n",
       "      <td>False</td>\n",
       "      <td>False</td>\n",
       "      <td>False</td>\n",
       "      <td>False</td>\n",
       "      <td>False</td>\n",
       "      <td>False</td>\n",
       "      <td>True</td>\n",
       "      <td>True</td>\n",
       "    </tr>\n",
       "    <tr>\n",
       "      <th>1</th>\n",
       "      <td>False</td>\n",
       "      <td>False</td>\n",
       "      <td>False</td>\n",
       "      <td>False</td>\n",
       "      <td>False</td>\n",
       "      <td>False</td>\n",
       "      <td>False</td>\n",
       "      <td>False</td>\n",
       "      <td>False</td>\n",
       "      <td>False</td>\n",
       "      <td>...</td>\n",
       "      <td>False</td>\n",
       "      <td>False</td>\n",
       "      <td>False</td>\n",
       "      <td>False</td>\n",
       "      <td>False</td>\n",
       "      <td>False</td>\n",
       "      <td>False</td>\n",
       "      <td>False</td>\n",
       "      <td>True</td>\n",
       "      <td>False</td>\n",
       "    </tr>\n",
       "    <tr>\n",
       "      <th>2</th>\n",
       "      <td>False</td>\n",
       "      <td>False</td>\n",
       "      <td>False</td>\n",
       "      <td>False</td>\n",
       "      <td>False</td>\n",
       "      <td>False</td>\n",
       "      <td>False</td>\n",
       "      <td>False</td>\n",
       "      <td>False</td>\n",
       "      <td>False</td>\n",
       "      <td>...</td>\n",
       "      <td>False</td>\n",
       "      <td>False</td>\n",
       "      <td>False</td>\n",
       "      <td>False</td>\n",
       "      <td>False</td>\n",
       "      <td>False</td>\n",
       "      <td>False</td>\n",
       "      <td>False</td>\n",
       "      <td>False</td>\n",
       "      <td>True</td>\n",
       "    </tr>\n",
       "    <tr>\n",
       "      <th>3</th>\n",
       "      <td>False</td>\n",
       "      <td>False</td>\n",
       "      <td>False</td>\n",
       "      <td>False</td>\n",
       "      <td>False</td>\n",
       "      <td>False</td>\n",
       "      <td>False</td>\n",
       "      <td>False</td>\n",
       "      <td>False</td>\n",
       "      <td>False</td>\n",
       "      <td>...</td>\n",
       "      <td>False</td>\n",
       "      <td>False</td>\n",
       "      <td>False</td>\n",
       "      <td>False</td>\n",
       "      <td>False</td>\n",
       "      <td>False</td>\n",
       "      <td>False</td>\n",
       "      <td>False</td>\n",
       "      <td>True</td>\n",
       "      <td>True</td>\n",
       "    </tr>\n",
       "    <tr>\n",
       "      <th>4</th>\n",
       "      <td>False</td>\n",
       "      <td>False</td>\n",
       "      <td>False</td>\n",
       "      <td>False</td>\n",
       "      <td>False</td>\n",
       "      <td>False</td>\n",
       "      <td>False</td>\n",
       "      <td>False</td>\n",
       "      <td>False</td>\n",
       "      <td>False</td>\n",
       "      <td>...</td>\n",
       "      <td>True</td>\n",
       "      <td>True</td>\n",
       "      <td>True</td>\n",
       "      <td>True</td>\n",
       "      <td>True</td>\n",
       "      <td>True</td>\n",
       "      <td>True</td>\n",
       "      <td>True</td>\n",
       "      <td>True</td>\n",
       "      <td>True</td>\n",
       "    </tr>\n",
       "    <tr>\n",
       "      <th>...</th>\n",
       "      <td>...</td>\n",
       "      <td>...</td>\n",
       "      <td>...</td>\n",
       "      <td>...</td>\n",
       "      <td>...</td>\n",
       "      <td>...</td>\n",
       "      <td>...</td>\n",
       "      <td>...</td>\n",
       "      <td>...</td>\n",
       "      <td>...</td>\n",
       "      <td>...</td>\n",
       "      <td>...</td>\n",
       "      <td>...</td>\n",
       "      <td>...</td>\n",
       "      <td>...</td>\n",
       "      <td>...</td>\n",
       "      <td>...</td>\n",
       "      <td>...</td>\n",
       "      <td>...</td>\n",
       "      <td>...</td>\n",
       "      <td>...</td>\n",
       "    </tr>\n",
       "    <tr>\n",
       "      <th>51387</th>\n",
       "      <td>False</td>\n",
       "      <td>False</td>\n",
       "      <td>False</td>\n",
       "      <td>False</td>\n",
       "      <td>False</td>\n",
       "      <td>False</td>\n",
       "      <td>False</td>\n",
       "      <td>False</td>\n",
       "      <td>False</td>\n",
       "      <td>False</td>\n",
       "      <td>...</td>\n",
       "      <td>False</td>\n",
       "      <td>False</td>\n",
       "      <td>False</td>\n",
       "      <td>False</td>\n",
       "      <td>False</td>\n",
       "      <td>False</td>\n",
       "      <td>False</td>\n",
       "      <td>False</td>\n",
       "      <td>False</td>\n",
       "      <td>True</td>\n",
       "    </tr>\n",
       "    <tr>\n",
       "      <th>51388</th>\n",
       "      <td>False</td>\n",
       "      <td>False</td>\n",
       "      <td>False</td>\n",
       "      <td>False</td>\n",
       "      <td>False</td>\n",
       "      <td>False</td>\n",
       "      <td>False</td>\n",
       "      <td>False</td>\n",
       "      <td>False</td>\n",
       "      <td>False</td>\n",
       "      <td>...</td>\n",
       "      <td>True</td>\n",
       "      <td>False</td>\n",
       "      <td>False</td>\n",
       "      <td>False</td>\n",
       "      <td>False</td>\n",
       "      <td>False</td>\n",
       "      <td>False</td>\n",
       "      <td>False</td>\n",
       "      <td>True</td>\n",
       "      <td>True</td>\n",
       "    </tr>\n",
       "    <tr>\n",
       "      <th>51389</th>\n",
       "      <td>False</td>\n",
       "      <td>False</td>\n",
       "      <td>False</td>\n",
       "      <td>False</td>\n",
       "      <td>False</td>\n",
       "      <td>False</td>\n",
       "      <td>False</td>\n",
       "      <td>False</td>\n",
       "      <td>False</td>\n",
       "      <td>False</td>\n",
       "      <td>...</td>\n",
       "      <td>True</td>\n",
       "      <td>True</td>\n",
       "      <td>True</td>\n",
       "      <td>True</td>\n",
       "      <td>True</td>\n",
       "      <td>True</td>\n",
       "      <td>True</td>\n",
       "      <td>True</td>\n",
       "      <td>True</td>\n",
       "      <td>True</td>\n",
       "    </tr>\n",
       "    <tr>\n",
       "      <th>51390</th>\n",
       "      <td>False</td>\n",
       "      <td>False</td>\n",
       "      <td>False</td>\n",
       "      <td>False</td>\n",
       "      <td>False</td>\n",
       "      <td>False</td>\n",
       "      <td>False</td>\n",
       "      <td>False</td>\n",
       "      <td>False</td>\n",
       "      <td>False</td>\n",
       "      <td>...</td>\n",
       "      <td>False</td>\n",
       "      <td>False</td>\n",
       "      <td>False</td>\n",
       "      <td>False</td>\n",
       "      <td>False</td>\n",
       "      <td>False</td>\n",
       "      <td>False</td>\n",
       "      <td>False</td>\n",
       "      <td>False</td>\n",
       "      <td>True</td>\n",
       "    </tr>\n",
       "    <tr>\n",
       "      <th>51391</th>\n",
       "      <td>False</td>\n",
       "      <td>False</td>\n",
       "      <td>False</td>\n",
       "      <td>False</td>\n",
       "      <td>False</td>\n",
       "      <td>False</td>\n",
       "      <td>False</td>\n",
       "      <td>False</td>\n",
       "      <td>False</td>\n",
       "      <td>False</td>\n",
       "      <td>...</td>\n",
       "      <td>False</td>\n",
       "      <td>False</td>\n",
       "      <td>False</td>\n",
       "      <td>False</td>\n",
       "      <td>False</td>\n",
       "      <td>False</td>\n",
       "      <td>False</td>\n",
       "      <td>False</td>\n",
       "      <td>True</td>\n",
       "      <td>True</td>\n",
       "    </tr>\n",
       "  </tbody>\n",
       "</table>\n",
       "<p>51392 rows × 154 columns</p>\n",
       "</div>"
      ],
      "text/plain": [
       "       Respondent  Professional  ProgramHobby  Country  University  \\\n",
       "0           False         False         False    False       False   \n",
       "1           False         False         False    False       False   \n",
       "2           False         False         False    False       False   \n",
       "3           False         False         False    False       False   \n",
       "4           False         False         False    False       False   \n",
       "...           ...           ...           ...      ...         ...   \n",
       "51387       False         False         False    False       False   \n",
       "51388       False         False         False    False       False   \n",
       "51389       False         False         False    False       False   \n",
       "51390       False         False         False    False       False   \n",
       "51391       False         False         False    False       False   \n",
       "\n",
       "       EmploymentStatus  FormalEducation  MajorUndergrad  HomeRemote  \\\n",
       "0                 False            False            True        True   \n",
       "1                 False            False           False       False   \n",
       "2                 False            False           False       False   \n",
       "3                 False            False           False       False   \n",
       "4                 False            False           False       False   \n",
       "...                 ...              ...             ...         ...   \n",
       "51387             False            False           False       False   \n",
       "51388             False            False           False       False   \n",
       "51389             False            False           False       False   \n",
       "51390             False            False           False       False   \n",
       "51391             False            False           False       False   \n",
       "\n",
       "       CompanySize  ...  StackOverflowMakeMoney  Gender  \\\n",
       "0             True  ...                   False   False   \n",
       "1            False  ...                   False   False   \n",
       "2            False  ...                   False   False   \n",
       "3            False  ...                   False   False   \n",
       "4            False  ...                    True    True   \n",
       "...            ...  ...                     ...     ...   \n",
       "51387        False  ...                   False   False   \n",
       "51388        False  ...                    True   False   \n",
       "51389        False  ...                    True    True   \n",
       "51390        False  ...                   False   False   \n",
       "51391        False  ...                   False   False   \n",
       "\n",
       "       HighestEducationParents   Race  SurveyLong  QuestionsInteresting  \\\n",
       "0                        False  False       False                 False   \n",
       "1                        False  False       False                 False   \n",
       "2                        False  False       False                 False   \n",
       "3                        False  False       False                 False   \n",
       "4                         True   True        True                  True   \n",
       "...                        ...    ...         ...                   ...   \n",
       "51387                    False  False       False                 False   \n",
       "51388                    False  False       False                 False   \n",
       "51389                     True   True        True                  True   \n",
       "51390                    False  False       False                 False   \n",
       "51391                    False  False       False                 False   \n",
       "\n",
       "       QuestionsConfusing  InterestedAnswers  Salary  ExpectedSalary  \n",
       "0                   False              False    True            True  \n",
       "1                   False              False    True           False  \n",
       "2                   False              False   False            True  \n",
       "3                   False              False    True            True  \n",
       "4                    True               True    True            True  \n",
       "...                   ...                ...     ...             ...  \n",
       "51387               False              False   False            True  \n",
       "51388               False              False    True            True  \n",
       "51389                True               True    True            True  \n",
       "51390               False              False   False            True  \n",
       "51391               False              False    True            True  \n",
       "\n",
       "[51392 rows x 154 columns]"
      ]
     },
     "execution_count": 180,
     "metadata": {},
     "output_type": "execute_result"
    }
   ],
   "source": [
    "data.isna()"
   ]
  },
  {
   "cell_type": "markdown",
   "metadata": {},
   "source": [
    "### Q1: What programming languanges do the happy programmers use the most?\n",
    "\n",
    "Short answer: JavaScript, SQL, Java, C#,  and Python"
   ]
  },
  {
   "cell_type": "markdown",
   "metadata": {},
   "source": [
    "### data wrangle and clean"
   ]
  },
  {
   "cell_type": "code",
   "execution_count": 50,
   "metadata": {},
   "outputs": [],
   "source": [
    "happy_programmer_df = data.loc[(data['JobSatisfaction']>=8) & data['CareerSatisfaction'] == True].copy() # filter the people who like the current jobs"
   ]
  },
  {
   "cell_type": "code",
   "execution_count": 166,
   "metadata": {},
   "outputs": [
    {
     "data": {
      "text/plain": [
       "51392"
      ]
     },
     "execution_count": 166,
     "metadata": {},
     "output_type": "execute_result"
    }
   ],
   "source": [
    "data.shape[0]"
   ]
  },
  {
   "cell_type": "code",
   "execution_count": 170,
   "metadata": {},
   "outputs": [
    {
     "data": {
      "text/plain": [
       "18685"
      ]
     },
     "execution_count": 170,
     "metadata": {},
     "output_type": "execute_result"
    }
   ],
   "source": [
    "happy_programmer_df.shape[0]"
   ]
  },
  {
   "cell_type": "code",
   "execution_count": 169,
   "metadata": {},
   "outputs": [
    {
     "data": {
      "text/plain": [
       "0.3635779887920299"
      ]
     },
     "execution_count": 169,
     "metadata": {},
     "output_type": "execute_result"
    }
   ],
   "source": [
    "percentage = happy_programmer_df.shape[0]/data.shape[0]\n",
    "percentage"
   ]
  },
  {
   "cell_type": "markdown",
   "metadata": {},
   "source": [
    "### Exploratory data analysis"
   ]
  },
  {
   "cell_type": "code",
   "execution_count": 6,
   "metadata": {},
   "outputs": [],
   "source": [
    "# generate country distribution for happy prorammers\n",
    "happy_programmer_country_df = happy_programmer_df.groupby(['Country'])['JobSatisfaction'].count().to_frame('Count').reset_index()\n",
    "happy_programmer_country_df.sort_values(by = 'Count', ascending=False, inplace =True)"
   ]
  },
  {
   "cell_type": "code",
   "execution_count": 7,
   "metadata": {},
   "outputs": [
    {
     "data": {
      "text/html": [
       "<div>\n",
       "<style scoped>\n",
       "    .dataframe tbody tr th:only-of-type {\n",
       "        vertical-align: middle;\n",
       "    }\n",
       "\n",
       "    .dataframe tbody tr th {\n",
       "        vertical-align: top;\n",
       "    }\n",
       "\n",
       "    .dataframe thead th {\n",
       "        text-align: right;\n",
       "    }\n",
       "</style>\n",
       "<table border=\"1\" class=\"dataframe\">\n",
       "  <thead>\n",
       "    <tr style=\"text-align: right;\">\n",
       "      <th></th>\n",
       "      <th>Count</th>\n",
       "    </tr>\n",
       "  </thead>\n",
       "  <tbody>\n",
       "    <tr>\n",
       "      <th>count</th>\n",
       "      <td>147.000000</td>\n",
       "    </tr>\n",
       "    <tr>\n",
       "      <th>mean</th>\n",
       "      <td>127.108844</td>\n",
       "    </tr>\n",
       "    <tr>\n",
       "      <th>std</th>\n",
       "      <td>455.579010</td>\n",
       "    </tr>\n",
       "    <tr>\n",
       "      <th>min</th>\n",
       "      <td>1.000000</td>\n",
       "    </tr>\n",
       "    <tr>\n",
       "      <th>25%</th>\n",
       "      <td>5.000000</td>\n",
       "    </tr>\n",
       "    <tr>\n",
       "      <th>50%</th>\n",
       "      <td>18.000000</td>\n",
       "    </tr>\n",
       "    <tr>\n",
       "      <th>75%</th>\n",
       "      <td>89.500000</td>\n",
       "    </tr>\n",
       "    <tr>\n",
       "      <th>max</th>\n",
       "      <td>4813.000000</td>\n",
       "    </tr>\n",
       "  </tbody>\n",
       "</table>\n",
       "</div>"
      ],
      "text/plain": [
       "             Count\n",
       "count   147.000000\n",
       "mean    127.108844\n",
       "std     455.579010\n",
       "min       1.000000\n",
       "25%       5.000000\n",
       "50%      18.000000\n",
       "75%      89.500000\n",
       "max    4813.000000"
      ]
     },
     "execution_count": 7,
     "metadata": {},
     "output_type": "execute_result"
    }
   ],
   "source": [
    "happy_programmer_country_df.describe()"
   ]
  },
  {
   "cell_type": "code",
   "execution_count": 8,
   "metadata": {},
   "outputs": [],
   "source": [
    "# filter the results with the count above the mean of the data\n",
    "happy_programmer_country_df_reduced =  happy_programmer_country_df[happy_programmer_country_df['Count'] >= happy_programmer_country_df['Count'].mean()]"
   ]
  },
  {
   "cell_type": "code",
   "execution_count": 9,
   "metadata": {},
   "outputs": [
    {
     "name": "stdout",
     "output_type": "stream",
     "text": [
      "The top five countries accounts 54.5036125234145% of the total programmers all around the world. And they are ['United States', 'United Kingdom', 'Germany', 'India', 'Canada']\n"
     ]
    }
   ],
   "source": [
    "# top 5 countries\n",
    "happy_programmer_country_top5 = happy_programmer_country_df_reduced.iloc[0:5,:].copy()\n",
    "# precentage caculations:\n",
    "top5_precentage = happy_programmer_country_top5['Count'].sum()/happy_programmer_country_df['Count'].sum()*100\n",
    "print(f\"The top five countries accounts {top5_precentage}% of the total programmers all around the world. And they are {list(happy_programmer_country_top5['Country'])}\")"
   ]
  },
  {
   "cell_type": "code",
   "execution_count": 171,
   "metadata": {},
   "outputs": [
    {
     "data": {
      "image/png": "[encoded data removed]",
      "text/plain": [
       "<Figure size 432x288 with 1 Axes>"
      ]
     },
     "metadata": {
      "needs_background": "light"
     },
     "output_type": "display_data"
    }
   ],
   "source": [
    "sns.barplot(x=happy_programmer_country_top5['Count'], y=happy_programmer_country_top5['Country'], color='turquoise')\n",
    "plt.xlabel('Happy programmers counts')\n",
    "plt.title('Happy programmers distributions');"
   ]
  },
  {
   "cell_type": "code",
   "execution_count": 11,
   "metadata": {
    "scrolled": true
   },
   "outputs": [
    {
     "name": "stderr",
     "output_type": "stream",
     "text": [
      "<ipython-input-11-46e2fc58ef2e>:2: SettingWithCopyWarning: \n",
      "A value is trying to be set on a copy of a slice from a DataFrame.\n",
      "Try using .loc[row_indexer,col_indexer] = value instead\n",
      "\n",
      "See the caveats in the documentation: https://pandas.pydata.org/pandas-docs/stable/user_guide/indexing.html#returning-a-view-versus-a-copy\n",
      "  happy_programmer_df['Language']  = happy_programmer_df['HaveWorkedLanguage'].apply(lambda x: str(x).replace(\" \", \"\").split(\";\")).copy()\n"
     ]
    }
   ],
   "source": [
    "# explode the languages\n",
    "happy_programmer_df['Language']  = happy_programmer_df['HaveWorkedLanguage'].apply(lambda x: str(x).replace(\" \", \"\").split(\";\")).copy()\n",
    "happy_programmer_language_df = happy_programmer_df.explode('Language')\n"
   ]
  },
  {
   "cell_type": "code",
   "execution_count": 12,
   "metadata": {},
   "outputs": [],
   "source": [
    "# drop nan\n",
    "happy_programmer_language_df = happy_programmer_language_df[happy_programmer_language_df['Language'] != \"nan\"]"
   ]
  },
  {
   "cell_type": "code",
   "execution_count": 13,
   "metadata": {
    "scrolled": true
   },
   "outputs": [],
   "source": [
    "# programming langues counts among the world\n",
    "happy_programmer_language_count =happy_programmer_language_df.groupby(['Respondent','Language'])['DeveloperType'].count().to_frame('Count').reset_index()\n",
    "happy_programmer_language_count = happy_programmer_language_count.groupby('Language')['Respondent'].count().to_frame('Count').reset_index()\n",
    "happy_programmer_language_count.sort_values(by = 'Count', ascending=False, inplace =True )"
   ]
  },
  {
   "cell_type": "code",
   "execution_count": 14,
   "metadata": {},
   "outputs": [
    {
     "name": "stdout",
     "output_type": "stream",
     "text": [
      "The top five programming languages in the world are ['JavaScript', 'SQL', 'Java', 'C#', 'Python'] and accounts 58.254607546539475% \n"
     ]
    }
   ],
   "source": [
    "# top 5 langues among the world\n",
    "happy_programmer_language_top5 = happy_programmer_language_count.iloc[0:5,:].copy()\n",
    "# precentage caculations:\n",
    "top5_language_precentage = happy_programmer_language_top5['Count'].sum()/happy_programmer_language_count['Count'].sum()*100\n",
    "print(f\"The top five programming languages in the world are {list(happy_programmer_language_top5['Language'])} and accounts {top5_language_precentage}% \")"
   ]
  },
  {
   "cell_type": "code",
   "execution_count": 15,
   "metadata": {},
   "outputs": [
    {
     "name": "stdout",
     "output_type": "stream",
     "text": [
      "The top five programming languages in USA are ['JavaScript', 'SQL', 'C#', 'Python', 'Java'] and accounts 58.13770491803278% \n"
     ]
    }
   ],
   "source": [
    "# language in United States\n",
    "happy_programmer_language_usa = happy_programmer_language_df[happy_programmer_language_df['Country'] == 'United States']\n",
    "happy_programmer_language_usa_count =happy_programmer_language_usa.groupby(['Language'])['Respondent'].count().to_frame('Count').reset_index()\n",
    "happy_programmer_language_usa_count.sort_values(by = 'Count', ascending=False, inplace =True )\n",
    "happy_programmer_language_usa_count\n",
    "# top 5 langues\n",
    "happy_programmer_language_usa_top5 = happy_programmer_language_usa_count.iloc[0:5,:].copy()\n",
    "# precentage caculations:\n",
    "top5_language_usa_precentage = happy_programmer_language_usa_top5['Count'].sum()/happy_programmer_language_usa_count['Count'].sum()*100\n",
    "print(f\"The top five programming languages in USA are {list(happy_programmer_language_usa_top5['Language'])} and accounts {top5_language_usa_precentage}% \")"
   ]
  },
  {
   "cell_type": "code",
   "execution_count": 16,
   "metadata": {},
   "outputs": [
    {
     "name": "stdout",
     "output_type": "stream",
     "text": [
      "The top five programming languages in United Kingdom are ['JavaScript', 'SQL', 'C#', 'PHP', 'Python'] and accounts 60.486784559802246% \n"
     ]
    }
   ],
   "source": [
    "# language in United Kingdom\n",
    "happy_programmer_language_uk = happy_programmer_language_df[happy_programmer_language_df['Country'] == 'United Kingdom']\n",
    "happy_programmer_language_uk_count =happy_programmer_language_uk.groupby(['Language'])['Respondent'].count().to_frame('Count').reset_index()\n",
    "happy_programmer_language_uk_count.sort_values(by = 'Count', ascending=False, inplace =True )\n",
    "happy_programmer_language_uk_count\n",
    "# top 5 langues\n",
    "happy_programmer_language_uk_top5 = happy_programmer_language_uk_count.iloc[0:5,:].copy()\n",
    "# precentage caculations:\n",
    "top5_language_uk_precentage = happy_programmer_language_uk_top5['Count'].sum()/happy_programmer_language_uk_count['Count'].sum()*100\n",
    "print(f\"The top five programming languages in United Kingdom are {list(happy_programmer_language_uk_top5['Language'])} and accounts {top5_language_uk_precentage}% \")"
   ]
  },
  {
   "cell_type": "code",
   "execution_count": 17,
   "metadata": {},
   "outputs": [
    {
     "name": "stdout",
     "output_type": "stream",
     "text": [
      "The top five programming languages in Germany are ['JavaScript', 'SQL', 'Java', 'C#', 'Python'] and accounts 55.669877408056045% \n"
     ]
    }
   ],
   "source": [
    "# language in Germany\n",
    "happy_programmer_language_gm = happy_programmer_language_df[happy_programmer_language_df['Country'] == 'Germany']\n",
    "happy_programmer_language_gm_count =happy_programmer_language_gm.groupby(['Language'])['Respondent'].count().to_frame('Count').reset_index()\n",
    "happy_programmer_language_gm_count.sort_values(by = 'Count', ascending=False, inplace =True )\n",
    "happy_programmer_language_gm_count\n",
    "# top 5 langues\n",
    "happy_programmer_language_gm_top5 = happy_programmer_language_gm_count.iloc[0:5,:].copy()\n",
    "# precentage caculations:\n",
    "top5_language_gm_precentage = happy_programmer_language_gm_top5['Count'].sum()/happy_programmer_language_gm_count['Count'].sum()*100\n",
    "print(f\"The top five programming languages in Germany are {list(happy_programmer_language_gm_top5['Language'])} and accounts {top5_language_gm_precentage}% \")"
   ]
  },
  {
   "cell_type": "code",
   "execution_count": 18,
   "metadata": {},
   "outputs": [
    {
     "name": "stdout",
     "output_type": "stream",
     "text": [
      "The top five programming languages in India are ['JavaScript', 'SQL', 'Java', 'PHP', 'Python'] and accounts 62.78145695364239% \n"
     ]
    }
   ],
   "source": [
    "# language in India'\n",
    "happy_programmer_language_in = happy_programmer_language_df[happy_programmer_language_df['Country'] == 'India']\n",
    "happy_programmer_language_in_count =happy_programmer_language_in.groupby(['Language'])['Respondent'].count().to_frame('Count').reset_index()\n",
    "happy_programmer_language_in_count.sort_values(by = 'Count', ascending=False, inplace =True )\n",
    "happy_programmer_language_in_count\n",
    "# top 5 langues\n",
    "happy_programmer_language_in_top5 = happy_programmer_language_in_count.iloc[0:5,:].copy()\n",
    "# precentage caculations:\n",
    "top5_language_in_precentage = happy_programmer_language_in_top5['Count'].sum()/happy_programmer_language_in_count['Count'].sum()*100\n",
    "print(f\"The top five programming languages in India are {list(happy_programmer_language_in_top5['Language'])} and accounts {top5_language_in_precentage}% \")"
   ]
  },
  {
   "cell_type": "code",
   "execution_count": 19,
   "metadata": {},
   "outputs": [
    {
     "name": "stdout",
     "output_type": "stream",
     "text": [
      "The top five programming languages in Canada are ['JavaScript', 'SQL', 'C#', 'Python', 'Java'] and accounts 59.5941616233535% \n"
     ]
    }
   ],
   "source": [
    "# language in Canada\n",
    "happy_programmer_language_ca = happy_programmer_language_df[happy_programmer_language_df['Country'] == 'Canada']\n",
    "happy_programmer_language_ca_count =happy_programmer_language_ca.groupby(['Language'])['Respondent'].count().to_frame('Count').reset_index()\n",
    "happy_programmer_language_ca_count.sort_values(by = 'Count', ascending=False, inplace =True )\n",
    "happy_programmer_language_ca_count\n",
    "# top 5 langues\n",
    "happy_programmer_language_ca_top5 = happy_programmer_language_ca_count.iloc[0:5,:].copy()\n",
    "# precentage caculations:\n",
    "top5_language_ca_precentage = happy_programmer_language_ca_top5['Count'].sum()/happy_programmer_language_ca_count['Count'].sum()*100\n",
    "print(f\"The top five programming languages in Canada are {list(happy_programmer_language_ca_top5['Language'])} and accounts {top5_language_ca_precentage}% \")"
   ]
  },
  {
   "cell_type": "code",
   "execution_count": 21,
   "metadata": {},
   "outputs": [],
   "source": [
    "# 'DeveloperType' study\n",
    "# explode the Developer Type\n",
    "happy_programmer_language_df['Dev']  = happy_programmer_language_df['DeveloperType'].apply(lambda x: str(x).replace(\" \", \"\").split(\";\")).copy()\n",
    "happy_programmer_language_df = happy_programmer_language_df.explode('Dev')"
   ]
  },
  {
   "cell_type": "code",
   "execution_count": 22,
   "metadata": {},
   "outputs": [],
   "source": [
    "# drop nan\n",
    "happy_programmer_language_df = happy_programmer_language_df[happy_programmer_language_df['Dev']!='nan']"
   ]
  },
  {
   "cell_type": "code",
   "execution_count": 23,
   "metadata": {},
   "outputs": [
    {
     "data": {
      "text/html": [
       "<div>\n",
       "<style scoped>\n",
       "    .dataframe tbody tr th:only-of-type {\n",
       "        vertical-align: middle;\n",
       "    }\n",
       "\n",
       "    .dataframe tbody tr th {\n",
       "        vertical-align: top;\n",
       "    }\n",
       "\n",
       "    .dataframe thead th {\n",
       "        text-align: right;\n",
       "    }\n",
       "</style>\n",
       "<table border=\"1\" class=\"dataframe\">\n",
       "  <thead>\n",
       "    <tr style=\"text-align: right;\">\n",
       "      <th></th>\n",
       "      <th>Dev</th>\n",
       "      <th>Count</th>\n",
       "    </tr>\n",
       "  </thead>\n",
       "  <tbody>\n",
       "    <tr>\n",
       "      <th>13</th>\n",
       "      <td>Webdeveloper</td>\n",
       "      <td>9222</td>\n",
       "    </tr>\n",
       "    <tr>\n",
       "      <th>2</th>\n",
       "      <td>Desktopapplicationsdeveloper</td>\n",
       "      <td>3739</td>\n",
       "    </tr>\n",
       "    <tr>\n",
       "      <th>9</th>\n",
       "      <td>Mobiledeveloper</td>\n",
       "      <td>2968</td>\n",
       "    </tr>\n",
       "    <tr>\n",
       "      <th>0</th>\n",
       "      <td>Databaseadministrator</td>\n",
       "      <td>1898</td>\n",
       "    </tr>\n",
       "    <tr>\n",
       "      <th>3</th>\n",
       "      <td>DevOpsspecialist</td>\n",
       "      <td>1598</td>\n",
       "    </tr>\n",
       "    <tr>\n",
       "      <th>12</th>\n",
       "      <td>Systemsadministrator</td>\n",
       "      <td>1536</td>\n",
       "    </tr>\n",
       "    <tr>\n",
       "      <th>4</th>\n",
       "      <td>Developerwithastatisticsormathematicsbackground</td>\n",
       "      <td>1530</td>\n",
       "    </tr>\n",
       "    <tr>\n",
       "      <th>5</th>\n",
       "      <td>Embeddedapplications/devicesdeveloper</td>\n",
       "      <td>1224</td>\n",
       "    </tr>\n",
       "    <tr>\n",
       "      <th>1</th>\n",
       "      <td>Datascientist</td>\n",
       "      <td>1147</td>\n",
       "    </tr>\n",
       "    <tr>\n",
       "      <th>10</th>\n",
       "      <td>Other</td>\n",
       "      <td>1140</td>\n",
       "    </tr>\n",
       "    <tr>\n",
       "      <th>7</th>\n",
       "      <td>Graphicsprogramming</td>\n",
       "      <td>632</td>\n",
       "    </tr>\n",
       "    <tr>\n",
       "      <th>8</th>\n",
       "      <td>Machinelearningspecialist</td>\n",
       "      <td>489</td>\n",
       "    </tr>\n",
       "    <tr>\n",
       "      <th>11</th>\n",
       "      <td>Qualityassuranceengineer</td>\n",
       "      <td>486</td>\n",
       "    </tr>\n",
       "    <tr>\n",
       "      <th>6</th>\n",
       "      <td>Graphicdesigner</td>\n",
       "      <td>466</td>\n",
       "    </tr>\n",
       "  </tbody>\n",
       "</table>\n",
       "</div>"
      ],
      "text/plain": [
       "                                                Dev  Count\n",
       "13                                     Webdeveloper   9222\n",
       "2                      Desktopapplicationsdeveloper   3739\n",
       "9                                   Mobiledeveloper   2968\n",
       "0                             Databaseadministrator   1898\n",
       "3                                  DevOpsspecialist   1598\n",
       "12                             Systemsadministrator   1536\n",
       "4   Developerwithastatisticsormathematicsbackground   1530\n",
       "5             Embeddedapplications/devicesdeveloper   1224\n",
       "1                                     Datascientist   1147\n",
       "10                                            Other   1140\n",
       "7                               Graphicsprogramming    632\n",
       "8                         Machinelearningspecialist    489\n",
       "11                         Qualityassuranceengineer    486\n",
       "6                                   Graphicdesigner    466"
      ]
     },
     "execution_count": 23,
     "metadata": {},
     "output_type": "execute_result"
    }
   ],
   "source": [
    "# count\n",
    "happy_programmer_language_dev_df = happy_programmer_language_df.groupby(['Dev','Respondent'])['DeveloperType'].count().to_frame('Count').reset_index()\n",
    "happy_programmer_language_dev_df = happy_programmer_language_dev_df.groupby('Dev')['Respondent'].count().to_frame('Count').reset_index()\n",
    "happy_programmer_language_dev_df.sort_values(by = 'Count',  ascending=False, inplace =True )"
   ]
  },
  {
   "cell_type": "code",
   "execution_count": 24,
   "metadata": {},
   "outputs": [
    {
     "name": "stdout",
     "output_type": "stream",
     "text": [
      "The top five types of developers in the world are ['Webdeveloper', 'Desktopapplicationsdeveloper', 'Mobiledeveloper', 'Databaseadministrator', 'DevOpsspecialist'] and accounts 69.18967052537846% \n"
     ]
    }
   ],
   "source": [
    "# top 5 types among the world\n",
    "happy_programmer_dev_top5 = happy_programmer_language_dev_df.iloc[0:5,:].copy()\n",
    "# precentage caculations:\n",
    "top5_dev_precentage = happy_programmer_dev_top5 ['Count'].sum()/happy_programmer_language_dev_df['Count'].sum()*100\n",
    "print(f\"The top five types of developers in the world are {list(happy_programmer_dev_top5['Dev'])} and accounts {top5_dev_precentage}% \")"
   ]
  },
  {
   "cell_type": "markdown",
   "metadata": {},
   "source": [
    "\n",
    "### Q2: Is salary a important part for the happy programmers?\n",
    "\n",
    "No! "
   ]
  },
  {
   "cell_type": "markdown",
   "metadata": {},
   "source": [
    "### Clean data"
   ]
  },
  {
   "cell_type": "code",
   "execution_count": 149,
   "metadata": {},
   "outputs": [],
   "source": [
    "def clean_data(df):\n",
    "    '''\n",
    "    INPUT\n",
    "    df - pandas dataframe \n",
    "    \n",
    "    OUTPUT\n",
    "    X - A matrix holding all of the variables you want to consider when predicting the response\n",
    "    y - the corresponding response vector\n",
    "    \n",
    "    This function cleans df using the following steps to produce X and y:\n",
    "    1. Create X as all the columns that are not the 'JobSatisfaction' column\n",
    "    3. Create y as the JobSatisfaction column\n",
    "    4. Drop the JobSatisfaction, CareerSatisfaction, Respondent, and the ExpectedSalary columns from X\n",
    "    5. For each numeric variable in X, fill the column with the mean value of the column.\n",
    "    6. Create dummy columns for all the categorical variables in X, drop the original columns\n",
    "    \n",
    "    '''\n",
    "    # Drop rows with missing salary values\n",
    "    y = df['JobSatisfaction']\n",
    "    \n",
    "    #Drop respondent and expected salary columns\n",
    "    df = df.drop(['Respondent', 'ExpectedSalary', 'JobSatisfaction', 'CareerSatisfaction'], axis=1)\n",
    "    \n",
    "    # Fill numeric columns with the mean\n",
    "    num_vars = df.select_dtypes(include=['float', 'int']).columns\n",
    "    for col in num_vars:\n",
    "        df[col].fillna((df[col].mean()), inplace=True)\n",
    "        \n",
    "    # Dummy the categorical variables\n",
    "    for var in df.select_dtypes(include=['object']).copy().columns:\n",
    "        # for each cat add dummy var, drop original column\n",
    "        df = pd.concat([df.drop(var, axis=1), pd.get_dummies(df[var], prefix=var, prefix_sep='_', drop_first=True)], axis=1)\n",
    "    \n",
    "    X = df\n",
    "    return X, y\n"
   ]
  },
  {
   "cell_type": "code",
   "execution_count": 150,
   "metadata": {},
   "outputs": [],
   "source": [
    "# pick the features in the data\n",
    "happy_programmer_model_df = happy_programmer_df[['HoursPerWeek', 'Salary','Professional', 'ProgramHobby', 'Country', 'University','FormalEducation','MajorUndergrad','HomeRemote',\n",
    "           'CompanySize', 'CompanyType', 'YearsProgram', 'YearsCodedJob', 'YearsCodedJobPast', 'JobSecurity','Currency',\n",
    "        'Overpaid',  'EducationTypes', 'SelfTaughtTypes', 'Race','Gender','Respondent', 'ExpectedSalary', 'JobSatisfaction', 'CareerSatisfaction'\n",
    "           ]\n",
    "]\n"
   ]
  },
  {
   "cell_type": "code",
   "execution_count": 151,
   "metadata": {},
   "outputs": [],
   "source": [
    "X, y = clean_data(happy_programmer_model_df)"
   ]
  },
  {
   "cell_type": "markdown",
   "metadata": {},
   "source": [
    "### Modeling"
   ]
  },
  {
   "cell_type": "code",
   "execution_count": 153,
   "metadata": {},
   "outputs": [],
   "source": [
    "def find_optimal_lm_mod(X, y, cutoffs, test_size = .30, random_state=42, plot=True):\n",
    "    '''\n",
    "    INPUT\n",
    "    X - pandas dataframe, X matrix\n",
    "    y - pandas dataframe, response variable\n",
    "    cutoffs - list of ints, cutoff for number of non-zero values in dummy categorical vars\n",
    "    test_size - float between 0 and 1, default 0.3, determines the proportion of data as test data\n",
    "    random_state - int, default 42, controls random state for train_test_split\n",
    "    plot - boolean, default 0.3, True to plot result\n",
    "\n",
    "    OUTPUT\n",
    "    r2_scores_test - list of floats of r2 scores on the test data\n",
    "    r2_scores_train - list of floats of r2 scores on the train data\n",
    "    lm_model - model object from sklearn\n",
    "    X_train, X_test, y_train, y_test - output from sklearn train test split used for optimal model\n",
    "    '''\n",
    "    r2_scores_test, r2_scores_train, num_feats, results = [], [], [], dict()\n",
    "    for cutoff in cutoffs:\n",
    "\n",
    "        #reduce X matrix\n",
    "        reduce_X = X.iloc[:, np.where((X.sum() > cutoff) == True)[0]]\n",
    "        num_feats.append(reduce_X.shape[1])\n",
    "\n",
    "        #split the data into train and test\n",
    "        X_train, X_test, y_train, y_test = train_test_split(reduce_X, y, test_size = test_size, random_state=random_state)\n",
    "\n",
    "        #fit the model and obtain pred response\n",
    "        lm_model = LinearRegression(normalize=True)\n",
    "        lm_model.fit(X_train, y_train)\n",
    "        y_test_preds = lm_model.predict(X_test)\n",
    "        y_train_preds = lm_model.predict(X_train)\n",
    "\n",
    "        #append the r2 value from the test set\n",
    "        r2_scores_test.append(r2_score(y_test, y_test_preds))\n",
    "        r2_scores_train.append(r2_score(y_train, y_train_preds))\n",
    "        results[str(cutoff)] = r2_score(y_test, y_test_preds)\n",
    "\n",
    "    if plot:\n",
    "        plt.plot(num_feats, r2_scores_test, label=\"Test\", alpha=.5)\n",
    "        plt.plot(num_feats, r2_scores_train, label=\"Train\", alpha=.5)\n",
    "        plt.xlabel('Number of Features')\n",
    "        plt.ylabel('Rsquared')\n",
    "        plt.title('Rsquared by Number of Features')\n",
    "        plt.legend(loc=1)\n",
    "        plt.show()\n",
    "\n",
    "    best_cutoff = max(results, key=results.get)\n",
    "\n",
    "    #reduce X matrix\n",
    "    reduce_X = X.iloc[:, np.where((X.sum() > int(best_cutoff)) == True)[0]]\n",
    "    num_feats.append(reduce_X.shape[1])\n",
    "\n",
    "    #split the data into train and test\n",
    "    X_train, X_test, y_train, y_test = train_test_split(reduce_X, y, test_size = test_size, random_state=random_state)\n",
    "\n",
    "    #fit the model\n",
    "    lm_model = LinearRegression(normalize=True)\n",
    "    lm_model.fit(X_train, y_train)\n",
    "\n",
    "    return r2_scores_test, r2_scores_train, lm_model, X_train, X_test, y_train, y_test"
   ]
  },
  {
   "cell_type": "code",
   "execution_count": 154,
   "metadata": {},
   "outputs": [
    {
     "data": {
      "image/png": "[encoded data removed]",
      "text/plain": [
       "<Figure size 432x288 with 1 Axes>"
      ]
     },
     "metadata": {
      "needs_background": "light"
     },
     "output_type": "display_data"
    }
   ],
   "source": [
    "#cutoffs here pertains to the number of missing values allowed in the used columns.\n",
    "#Therefore, lower values for the cutoff provides more predictors in the model.\n",
    "cutoffs = [5000, 3500, 2500, 1000, 100]\n",
    "r2_scores_test, r2_scores_train, lm_model, X_train, X_test, y_train, y_test = find_optimal_lm_mod(X, y, cutoffs)"
   ]
  },
  {
   "cell_type": "code",
   "execution_count": 155,
   "metadata": {},
   "outputs": [
    {
     "data": {
      "text/html": [
       "<div>\n",
       "<style scoped>\n",
       "    .dataframe tbody tr th:only-of-type {\n",
       "        vertical-align: middle;\n",
       "    }\n",
       "\n",
       "    .dataframe tbody tr th {\n",
       "        vertical-align: top;\n",
       "    }\n",
       "\n",
       "    .dataframe thead th {\n",
       "        text-align: right;\n",
       "    }\n",
       "</style>\n",
       "<table border=\"1\" class=\"dataframe\">\n",
       "  <thead>\n",
       "    <tr style=\"text-align: right;\">\n",
       "      <th></th>\n",
       "      <th>est_int</th>\n",
       "      <th>coefs</th>\n",
       "      <th>abs_coefs</th>\n",
       "    </tr>\n",
       "  </thead>\n",
       "  <tbody>\n",
       "    <tr>\n",
       "      <th>19</th>\n",
       "      <td>HomeRemote_All or almost all the time (I'm ful...</td>\n",
       "      <td>0.158436</td>\n",
       "      <td>0.158436</td>\n",
       "    </tr>\n",
       "    <tr>\n",
       "      <th>42</th>\n",
       "      <td>YearsCodedJob_Less than a year</td>\n",
       "      <td>0.131968</td>\n",
       "      <td>0.131968</td>\n",
       "    </tr>\n",
       "    <tr>\n",
       "      <th>2</th>\n",
       "      <td>Professional_Professional non-developer who so...</td>\n",
       "      <td>-0.126591</td>\n",
       "      <td>0.126591</td>\n",
       "    </tr>\n",
       "    <tr>\n",
       "      <th>30</th>\n",
       "      <td>CompanyType_Publicly-traded corporation</td>\n",
       "      <td>-0.122264</td>\n",
       "      <td>0.122264</td>\n",
       "    </tr>\n",
       "    <tr>\n",
       "      <th>48</th>\n",
       "      <td>Overpaid_Somewhat underpaid</td>\n",
       "      <td>-0.117728</td>\n",
       "      <td>0.117728</td>\n",
       "    </tr>\n",
       "    <tr>\n",
       "      <th>28</th>\n",
       "      <td>CompanyType_I don't know</td>\n",
       "      <td>-0.113677</td>\n",
       "      <td>0.113677</td>\n",
       "    </tr>\n",
       "    <tr>\n",
       "      <th>9</th>\n",
       "      <td>Country_United States</td>\n",
       "      <td>0.105655</td>\n",
       "      <td>0.105655</td>\n",
       "    </tr>\n",
       "    <tr>\n",
       "      <th>27</th>\n",
       "      <td>CompanySize_Fewer than 10 employees</td>\n",
       "      <td>0.096292</td>\n",
       "      <td>0.096292</td>\n",
       "    </tr>\n",
       "    <tr>\n",
       "      <th>44</th>\n",
       "      <td>JobSecurity_Strongly agree</td>\n",
       "      <td>0.087049</td>\n",
       "      <td>0.087049</td>\n",
       "    </tr>\n",
       "    <tr>\n",
       "      <th>29</th>\n",
       "      <td>CompanyType_Privately-held limited company, no...</td>\n",
       "      <td>-0.084854</td>\n",
       "      <td>0.084854</td>\n",
       "    </tr>\n",
       "    <tr>\n",
       "      <th>31</th>\n",
       "      <td>CompanyType_Sole proprietorship or partnership...</td>\n",
       "      <td>-0.080277</td>\n",
       "      <td>0.080277</td>\n",
       "    </tr>\n",
       "    <tr>\n",
       "      <th>16</th>\n",
       "      <td>MajorUndergrad_Computer engineering or electri...</td>\n",
       "      <td>-0.069264</td>\n",
       "      <td>0.069264</td>\n",
       "    </tr>\n",
       "    <tr>\n",
       "      <th>5</th>\n",
       "      <td>ProgramHobby_Yes, both</td>\n",
       "      <td>0.069110</td>\n",
       "      <td>0.069110</td>\n",
       "    </tr>\n",
       "    <tr>\n",
       "      <th>10</th>\n",
       "      <td>University_No</td>\n",
       "      <td>-0.054817</td>\n",
       "      <td>0.054817</td>\n",
       "    </tr>\n",
       "    <tr>\n",
       "      <th>38</th>\n",
       "      <td>YearsCodedJob_20 or more years</td>\n",
       "      <td>0.054813</td>\n",
       "      <td>0.054813</td>\n",
       "    </tr>\n",
       "    <tr>\n",
       "      <th>51</th>\n",
       "      <td>Gender_Male</td>\n",
       "      <td>-0.053946</td>\n",
       "      <td>0.053946</td>\n",
       "    </tr>\n",
       "    <tr>\n",
       "      <th>12</th>\n",
       "      <td>University_Yes, part-time</td>\n",
       "      <td>-0.053147</td>\n",
       "      <td>0.053147</td>\n",
       "    </tr>\n",
       "    <tr>\n",
       "      <th>47</th>\n",
       "      <td>Overpaid_Neither underpaid nor overpaid</td>\n",
       "      <td>0.050502</td>\n",
       "      <td>0.050502</td>\n",
       "    </tr>\n",
       "    <tr>\n",
       "      <th>17</th>\n",
       "      <td>MajorUndergrad_Computer programming or Web dev...</td>\n",
       "      <td>-0.046465</td>\n",
       "      <td>0.046465</td>\n",
       "    </tr>\n",
       "    <tr>\n",
       "      <th>14</th>\n",
       "      <td>FormalEducation_Secondary school</td>\n",
       "      <td>0.044486</td>\n",
       "      <td>0.044486</td>\n",
       "    </tr>\n",
       "  </tbody>\n",
       "</table>\n",
       "</div>"
      ],
      "text/plain": [
       "                                              est_int     coefs  abs_coefs\n",
       "19  HomeRemote_All or almost all the time (I'm ful...  0.158436   0.158436\n",
       "42                     YearsCodedJob_Less than a year  0.131968   0.131968\n",
       "2   Professional_Professional non-developer who so... -0.126591   0.126591\n",
       "30            CompanyType_Publicly-traded corporation -0.122264   0.122264\n",
       "48                        Overpaid_Somewhat underpaid -0.117728   0.117728\n",
       "28                           CompanyType_I don't know -0.113677   0.113677\n",
       "9                               Country_United States  0.105655   0.105655\n",
       "27                CompanySize_Fewer than 10 employees  0.096292   0.096292\n",
       "44                         JobSecurity_Strongly agree  0.087049   0.087049\n",
       "29  CompanyType_Privately-held limited company, no... -0.084854   0.084854\n",
       "31  CompanyType_Sole proprietorship or partnership... -0.080277   0.080277\n",
       "16  MajorUndergrad_Computer engineering or electri... -0.069264   0.069264\n",
       "5                              ProgramHobby_Yes, both  0.069110   0.069110\n",
       "10                                      University_No -0.054817   0.054817\n",
       "38                     YearsCodedJob_20 or more years  0.054813   0.054813\n",
       "51                                        Gender_Male -0.053946   0.053946\n",
       "12                          University_Yes, part-time -0.053147   0.053147\n",
       "47            Overpaid_Neither underpaid nor overpaid  0.050502   0.050502\n",
       "17  MajorUndergrad_Computer programming or Web dev... -0.046465   0.046465\n",
       "14                   FormalEducation_Secondary school  0.044486   0.044486"
      ]
     },
     "execution_count": 155,
     "metadata": {},
     "output_type": "execute_result"
    }
   ],
   "source": [
    "def coef_weights(coefficients, X_train):\n",
    "    '''\n",
    "    INPUT:\n",
    "    coefficients - the coefficients of the linear model \n",
    "    X_train - the training data, so the column names can be used\n",
    "    OUTPUT:\n",
    "    coefs_df - a dataframe holding the coefficient, estimate, and abs(estimate)\n",
    "    \n",
    "    Provides a dataframe that can be used to understand the most influential coefficients\n",
    "    in a linear model by providing the coefficient estimates along with the name of the \n",
    "    variable attached to the coefficient.\n",
    "    '''\n",
    "    coefs_df = pd.DataFrame()\n",
    "    coefs_df['est_int'] = X_train.columns\n",
    "    coefs_df['coefs'] = lm_model.coef_\n",
    "    coefs_df['abs_coefs'] = np.abs(lm_model.coef_)\n",
    "    coefs_df = coefs_df.sort_values('abs_coefs', ascending=False)\n",
    "    return coefs_df\n",
    "\n",
    "#Use the function\n",
    "coef_df = coef_weights(lm_model.coef_, X_train)\n",
    "\n",
    "#A quick look at the top results\n",
    "coef_df.head(20)"
   ]
  },
  {
   "cell_type": "code",
   "execution_count": 179,
   "metadata": {},
   "outputs": [
    {
     "data": {
      "text/plain": [
       "'Professional_Professional non-developer who sometimes writes code'"
      ]
     },
     "execution_count": 179,
     "metadata": {},
     "output_type": "execute_result"
    }
   ],
   "source": [
    "coef_df.head(3)['est_int'][2]"
   ]
  },
  {
   "cell_type": "code",
   "execution_count": 157,
   "metadata": {},
   "outputs": [
    {
     "data": {
      "text/html": [
       "<div>\n",
       "<style scoped>\n",
       "    .dataframe tbody tr th:only-of-type {\n",
       "        vertical-align: middle;\n",
       "    }\n",
       "\n",
       "    .dataframe tbody tr th {\n",
       "        vertical-align: top;\n",
       "    }\n",
       "\n",
       "    .dataframe thead th {\n",
       "        text-align: right;\n",
       "    }\n",
       "</style>\n",
       "<table border=\"1\" class=\"dataframe\">\n",
       "  <thead>\n",
       "    <tr style=\"text-align: right;\">\n",
       "      <th></th>\n",
       "      <th>est_int</th>\n",
       "      <th>coefs</th>\n",
       "      <th>abs_coefs</th>\n",
       "    </tr>\n",
       "  </thead>\n",
       "  <tbody>\n",
       "    <tr>\n",
       "      <th>45</th>\n",
       "      <td>Currency_Euros (€)</td>\n",
       "      <td>-8.095821e-03</td>\n",
       "      <td>8.095821e-03</td>\n",
       "    </tr>\n",
       "    <tr>\n",
       "      <th>4</th>\n",
       "      <td>ProgramHobby_Yes, I program as a hobby</td>\n",
       "      <td>-6.424296e-03</td>\n",
       "      <td>6.424296e-03</td>\n",
       "    </tr>\n",
       "    <tr>\n",
       "      <th>0</th>\n",
       "      <td>HoursPerWeek</td>\n",
       "      <td>6.142803e-03</td>\n",
       "      <td>6.142803e-03</td>\n",
       "    </tr>\n",
       "    <tr>\n",
       "      <th>23</th>\n",
       "      <td>CompanySize_10,000 or more employees</td>\n",
       "      <td>8.014998e-04</td>\n",
       "      <td>8.014998e-04</td>\n",
       "    </tr>\n",
       "    <tr>\n",
       "      <th>1</th>\n",
       "      <td>Salary</td>\n",
       "      <td>2.377100e-07</td>\n",
       "      <td>2.377100e-07</td>\n",
       "    </tr>\n",
       "  </tbody>\n",
       "</table>\n",
       "</div>"
      ],
      "text/plain": [
       "                                   est_int         coefs     abs_coefs\n",
       "45                      Currency_Euros (€) -8.095821e-03  8.095821e-03\n",
       "4   ProgramHobby_Yes, I program as a hobby -6.424296e-03  6.424296e-03\n",
       "0                             HoursPerWeek  6.142803e-03  6.142803e-03\n",
       "23    CompanySize_10,000 or more employees  8.014998e-04  8.014998e-04\n",
       "1                                   Salary  2.377100e-07  2.377100e-07"
      ]
     },
     "execution_count": 157,
     "metadata": {},
     "output_type": "execute_result"
    }
   ],
   "source": [
    "coef_df.tail(5)"
   ]
  },
  {
   "cell_type": "markdown",
   "metadata": {},
   "source": [
    "### Summary \n",
    "In summary, based on our study, we find that people work at home all or almost all the time, who just started less than a year in a publicly traded corporation with somewhat underpaid. And they are not developer, but sometimes writes code. You think this is because of pandemic? No! this survey was finished in 2017. So working from home is always the most important factor to a happy work life. And we also find the bottom factors contributing to happiness are: programing as a hobby, working hours per week, and big company. Surprisingly, the least important factor is salary. Yes, money cannot buy us happiness, we showed it"
   ]
  },
  {
   "cell_type": "code",
   "execution_count": null,
   "metadata": {},
   "outputs": [],
   "source": []
  }
 ],
 "metadata": {
  "kernelspec": {
   "display_name": "Python 3",
   "language": "python",
   "name": "python3"
  },
  "language_info": {
   "codemirror_mode": {
    "name": "ipython",
    "version": 3
   },
   "file_extension": ".py",
   "mimetype": "text/x-python",
   "name": "python",
   "nbconvert_exporter": "python",
   "pygments_lexer": "ipython3",
   "version": "3.8.3"
  }
 },
 "nbformat": 4,
 "nbformat_minor": 4
}
